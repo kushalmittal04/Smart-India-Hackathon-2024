{
 "cells": [
  {
   "cell_type": "code",
   "execution_count": 1,
   "id": "6b4800a9-7e02-405e-bcaa-420e480cb116",
   "metadata": {},
   "outputs": [],
   "source": [
    "import pandas as pd\n",
    "import numpy as np"
   ]
  },
  {
   "cell_type": "code",
   "execution_count": 5,
   "id": "af14e599-f102-4010-8fdc-5b4266379dce",
   "metadata": {},
   "outputs": [],
   "source": [
    "df = pd.read_csv('class10details.csv')"
   ]
  },
  {
   "cell_type": "code",
   "execution_count": 11,
   "id": "572f013f-ddc6-4a61-aa7c-a62fdeb6f4ac",
   "metadata": {},
   "outputs": [
    {
     "data": {
      "text/html": [
       "<div>\n",
       "<style scoped>\n",
       "    .dataframe tbody tr th:only-of-type {\n",
       "        vertical-align: middle;\n",
       "    }\n",
       "\n",
       "    .dataframe tbody tr th {\n",
       "        vertical-align: top;\n",
       "    }\n",
       "\n",
       "    .dataframe thead th {\n",
       "        text-align: right;\n",
       "    }\n",
       "</style>\n",
       "<table border=\"1\" class=\"dataframe\">\n",
       "  <thead>\n",
       "    <tr style=\"text-align: right;\">\n",
       "      <th></th>\n",
       "      <th>S.No.</th>\n",
       "      <th>Regn.No.</th>\n",
       "      <th>Board</th>\n",
       "      <th>Certificate</th>\n",
       "      <th>Examination</th>\n",
       "      <th>Year</th>\n",
       "      <th>Name</th>\n",
       "      <th>Roll No.</th>\n",
       "      <th>Mother's Name</th>\n",
       "      <th>Father's/Guardian's Name</th>\n",
       "      <th>Date of Birth</th>\n",
       "      <th>DOB in Words</th>\n",
       "      <th>School Code</th>\n",
       "      <th>School Name with Address</th>\n",
       "      <th>Scholastic Achivements(Sub Code, Subject, Theory, Internal/Practical, Total, Total in Words, Positional Grade)</th>\n",
       "      <th>Result</th>\n",
       "      <th>Dated</th>\n",
       "    </tr>\n",
       "  </thead>\n",
       "  <tbody>\n",
       "    <tr>\n",
       "      <th>0</th>\n",
       "      <td>SSE/2019/0943390</td>\n",
       "      <td>A119/16397/0039</td>\n",
       "      <td>CENTRAL BOARD OF SECONDARY EDUCATION</td>\n",
       "      <td>MARKS STATEMENT CUM CERTIFICATE</td>\n",
       "      <td>SECONDARY SCHOOL EXAMINATION</td>\n",
       "      <td>2019</td>\n",
       "      <td>KUSHAL MITTAL</td>\n",
       "      <td>1131444</td>\n",
       "      <td>DR SHOBHA MITTAL</td>\n",
       "      <td>ANAND KUMAR MITTAL</td>\n",
       "      <td>04-08-2004</td>\n",
       "      <td>4TH AUGUST TWO THOUSAND FOUR</td>\n",
       "      <td>16397</td>\n",
       "      <td>BIRLA INT SCHOOL BANDER SINDRI AJMER</td>\n",
       "      <td>[ [\"101\" , \"ENGLISH COMM\" , \"069\" , \"018\" , \"0...</td>\n",
       "      <td>PASS</td>\n",
       "      <td>06-05-2019</td>\n",
       "    </tr>\n",
       "  </tbody>\n",
       "</table>\n",
       "</div>"
      ],
      "text/plain": [
       "              S.No.         Regn.No.                                 Board  \\\n",
       "0  SSE/2019/0943390  A119/16397/0039  CENTRAL BOARD OF SECONDARY EDUCATION   \n",
       "\n",
       "                       Certificate                   Examination  Year  \\\n",
       "0  MARKS STATEMENT CUM CERTIFICATE  SECONDARY SCHOOL EXAMINATION  2019   \n",
       "\n",
       "            Name  Roll No.     Mother's Name Father's/Guardian's Name  \\\n",
       "0  KUSHAL MITTAL   1131444  DR SHOBHA MITTAL       ANAND KUMAR MITTAL   \n",
       "\n",
       "  Date of Birth                  DOB in Words  School Code  \\\n",
       "0    04-08-2004  4TH AUGUST TWO THOUSAND FOUR        16397   \n",
       "\n",
       "               School Name with Address  \\\n",
       "0  BIRLA INT SCHOOL BANDER SINDRI AJMER   \n",
       "\n",
       "  Scholastic Achivements(Sub Code, Subject, Theory, Internal/Practical, Total, Total in Words, Positional Grade)  \\\n",
       "0  [ [\"101\" , \"ENGLISH COMM\" , \"069\" , \"018\" , \"0...                                                               \n",
       "\n",
       "  Result       Dated  \n",
       "0   PASS  06-05-2019  "
      ]
     },
     "execution_count": 11,
     "metadata": {},
     "output_type": "execute_result"
    }
   ],
   "source": [
    "df.head(1)\n"
   ]
  },
  {
   "cell_type": "code",
   "execution_count": 15,
   "id": "5cec9f98-4eb3-470a-a482-b67db4d891ab",
   "metadata": {},
   "outputs": [
    {
     "data": {
      "text/plain": [
       "array(['[ [\"101\" , \"ENGLISH COMM\" , \"069\" , \"018\" , \"087\" , \"EIGHTY SEVEN\" , \"B1\"] , [\"122\" , \"SANSKRIT\" , \"065\" , \"020\" , \"085\" , \"EIGHTY FIVE\" , \"A2\"] , [\"041\" , \"MATHEMATICS\" , \"075\" , \"019\" , \"094\" , \"NINETY FIVE\" , \"A2\"] , [\"086\" , \"SCIENCE\" , \"057\" , \"017\" , \"074\" , \"SEVENTY FOUR\" , \"B1\"] , [\"087\" , \"SOCIAL SCIENCE\" , \"071\" , \"018\" , \"089\" , \"EIGHTY FIVE\" , \"B1\"] ]'],\n",
       "      dtype=object)"
      ]
     },
     "execution_count": 15,
     "metadata": {},
     "output_type": "execute_result"
    }
   ],
   "source": [
    "df['Scholastic Achivements(Sub Code, Subject, Theory, Internal/Practical, Total, Total in Words, Positional Grade)'].values"
   ]
  },
  {
   "cell_type": "code",
   "execution_count": null,
   "id": "7a1ecc2b-2a51-41f2-901c-d7b2fa2d9f34",
   "metadata": {},
   "outputs": [],
   "source": []
  }
 ],
 "metadata": {
  "kernelspec": {
   "display_name": "Python 3 (ipykernel)",
   "language": "python",
   "name": "python3"
  },
  "language_info": {
   "codemirror_mode": {
    "name": "ipython",
    "version": 3
   },
   "file_extension": ".py",
   "mimetype": "text/x-python",
   "name": "python",
   "nbconvert_exporter": "python",
   "pygments_lexer": "ipython3",
   "version": "3.12.4"
  },
  "widgets": {
   "application/vnd.jupyter.widget-state+json": {
    "state": {},
    "version_major": 2,
    "version_minor": 0
   }
  }
 },
 "nbformat": 4,
 "nbformat_minor": 5
}
