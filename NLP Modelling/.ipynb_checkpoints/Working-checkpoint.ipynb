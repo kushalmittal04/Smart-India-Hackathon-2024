{
 "cells": [
  {
   "cell_type": "code",
   "execution_count": 1,
   "id": "9fe9eeac-fe78-4953-ae78-478de7685cc9",
   "metadata": {},
   "outputs": [],
   "source": [
    "import numpy as np\n",
    "import pandas as pd\n",
    "from matplotlib import pyplot as plt\n",
    "import cv2\n",
    "import os\n",
    "import re\n",
    "import pytesseract\n",
    "pytesseract.pytesseract.tesseract_cmd = r'D:\\Program Files\\Tesseract-OCR\\tesseract.exe'"
   ]
  },
  {
   "cell_type": "code",
   "execution_count": 2,
   "id": "8ad88f81-8cb3-40d5-8ce2-f25504257423",
   "metadata": {},
   "outputs": [],
   "source": [
    "# Noise Removal\n",
    "def noise_removal(image):\n",
    "    kernel = np.ones((1, 1), np.uint8)\n",
    "    image = cv2.dilate(image, kernel, iterations=1)\n",
    "    kernel = np.ones((1, 1), np.uint8)\n",
    "    image = cv2.erode(image, kernel, iterations=1)\n",
    "    image = cv2.morphologyEx(image, cv2.MORPH_CLOSE, kernel)\n",
    "    image = cv2.medianBlur(image, 3)\n",
    "    return (image)\n",
    "\n",
    "# Removing Borders\n",
    "def remove_borders(image):\n",
    "    contours, heiarchy = cv2.findContours(image, cv2.RETR_EXTERNAL, cv2.CHAIN_APPROX_SIMPLE)\n",
    "    cntsSorted = sorted(contours, key=lambda x:cv2.contourArea(x))\n",
    "    cnt = cntsSorted[-1]\n",
    "    x, y, w, h = cv2.boundingRect(cnt)\n",
    "    crop = image[y:y+h, x:x+w]\n",
    "    return (crop)"
   ]
  },
  {
   "cell_type": "code",
   "execution_count": 3,
   "id": "a2246971-6b93-4d7a-a5c0-3d7e5d470c64",
   "metadata": {},
   "outputs": [],
   "source": [
    "# Function to preprocess the image\n",
    "def preprocess_image(image_path):\n",
    "    image = cv2.imread(image_path)\n",
    "    image = cv2.bitwise_not(image)\n",
    "    gray = cv2.cvtColor(image, cv2.COLOR_BGR2GRAY)\n",
    "    gray = cv2.medianBlur(gray, 5)# Apply some denoising\n",
    "    no_noise = noise_removal(gray)\n",
    "    no_borders = remove_borders(no_noise)\n",
    "    return no_borders\n",
    "\n",
    "# Function to extract text from image using Tesseract\n",
    "def extract_text_from_image(image):\n",
    "    custom_config = r'--oem 3 --psm 6'  # Adjusting psm for best extraction\n",
    "    text = pytesseract.image_to_string(image, config=custom_config)\n",
    "    return text\n",
    "\n",
    "# Function to clean the text aggressively\n",
    "def clean_extracted_text(text):\n",
    "    clean_text = re.sub(r'[^\\x00-\\x7F]+', ' ', text)  # Remove non-ASCII characters\n",
    "    clean_text = re.sub(r'[^\\w\\s.,:/-]', '', clean_text)  # Remove special symbols\n",
    "    clean_text = re.sub(r'\\s+', ' ', clean_text)  # Normalize whitespace\n",
    "    return clean_text\n",
    "\n",
    "# Main function to process each image and extract all details\n",
    "def process_marksheet(image_path):\n",
    "    # Step 1: Preprocess the image\n",
    "    preprocessed_image = preprocess_image(image_path)\n",
    "    \n",
    "    # Step 2: Extract text from image\n",
    "    extracted_text = extract_text_from_image(preprocessed_image)\n",
    "    print(f\"Extracted Text from {image_path}:\\n\", extracted_text)\n",
    "    \n",
    "    # Step 3: Clean the extracted text\n",
    "    cleaned_text = clean_extracted_text(extracted_text)\n",
    "    print(f\"Cleaned Text from {image_path}:\\n\", cleaned_text)"
   ]
  },
  {
   "cell_type": "code",
   "execution_count": 4,
   "id": "fdae8288-2a02-49cc-a045-6f2521dcfff4",
   "metadata": {},
   "outputs": [
    {
     "name": "stdout",
     "output_type": "stream",
     "text": [
      "Extracted Text from images/11.jpg:\n",
      " Aree ' 273840 on 3 ae o =. am - tiird\n",
      "Ps | 0943390 ff / SOO Rogn.No. A119/16397/0039 be)\n",
      "Ae: . eYa'ot a * 1S,\n",
      "(si wT E)\n",
      ", CENTRAL BOARD OF SECONDARY EDUCATION i\n",
      "e) MARKS STATEMENT CUM CERTIFICATE = )\n",
      "| meats; farerera utter, 2019 &\n",
      "4 ALLINDIA SECONDARY SCHOOL EXAMINATION, 2019 eA\n",
      "¥, hs\n",
      "> ae warftra feat rat % f% This is to certify that KUSHAL MITTAL =)\n",
      "\\ 7) SPRATS Roll No. 1131444 i\n",
      "(—) A1aT &1 ATH Mother's Name DR SHOBHA MITTAL iE)\n",
      "©) ftar/azee @ ava Father's / Guardian’s Name ANAND KUMAR MITTAL x\n",
      "| gai faf& Date of Birth 04/08/2004 4TH AUGUST TWO THOUSAND FOUR ay\n",
      "» farsa School 16397-BIRLA INT SCHOOL BANDER SINDRI AJMER 4\n",
      "¥ S tatre weafaai Praga % has achieved Scholastic Achievements as under : ts]\n",
      "4\n",
      "[feet aoe | fara te »\n",
      "5 ee SUBJECT fafera | me a | art (arett #) ‘| POSITIONAL] |\n",
      "fae | CODE | THEORY | wT pe | TOTAL |TOTAL (IN WoRDS)| GRADE | jf)\n",
      "5 j 101 ENGLISH COMM. 069 018 087 EIGHTY SEVEN iy\n",
      "re ; 122 SANSKRIT 06s 020 08s EIGHTY FIVE :\n",
      "“| 061 | MATHEMATICS 075 019 | 094 | NINETY FOUR p &.\n",
      "| 086 | SCIENCE 057 | 017 | 074 | SEVENTY FOUR ey\n",
      "t\n",
      "| 087 | SOCIAL SCIENCE 071 018 =| 089 | EIGHTY NINE BS\n",
      ". ; \\Z r\n",
      "‘SS ir\n",
      "(3\n",
      "G v\n",
      "Be ie\n",
      "U2), @fanat a af : Abbreviations Be\n",
      "| W./PR. : WraPe /Practical Ori i\n",
      "Pats Deted's 06/05/2039) oF, Controller of Examinations\n",
      "‘PS pe tyre - hes. BL or SEI op Se \"aan oa ae\n",
      "| e-teew creetiret : we Aerfire es anyon as 4 fh Rares pre awd wer wy ed erm nt mrwegeR me omht EY.\n",
      "_Co-Schoasic echlevementa : Graig for Co‘Scheastc and Dacpine area being nsund by Ye echool as per format rowerbed by ue\n",
      "\n",
      "Cleaned Text from images/11.jpg:\n",
      " Aree 273840 on 3 ae o . am - tiird Ps 0943390 ff / SOO Rogn.No. A119/16397/0039 be Ae: . eYaot a 1S, si wT E , CENTRAL BOARD OF SECONDARY EDUCATION i e MARKS STATEMENT CUM CERTIFICATE meats farerera utter, 2019 4 ALLINDIA SECONDARY SCHOOL EXAMINATION, 2019 eA , hs ae warftra feat rat f This is to certify that KUSHAL MITTAL 7 SPRATS Roll No. 1131444 i A1aT 1 ATH Mothers Name DR SHOBHA MITTAL iE ftar/azee ava Fathers / Guardian s Name ANAND KUMAR MITTAL x gai faf Date of Birth 04/08/2004 4TH AUGUST TWO THOUSAND FOUR ay farsa School 16397-BIRLA INT SCHOOL BANDER SINDRI AJMER 4 S tatre weafaai Praga has achieved Scholastic Achievements as under : ts 4 feet aoe fara te 5 ee SUBJECT fafera me a art arett POSITIONAL fae CODE THEORY wT pe TOTAL TOTAL IN WoRDS GRADE jf 5 j 101 ENGLISH COMM. 069 018 087 EIGHTY SEVEN iy re 122 SANSKRIT 06s 020 08s EIGHTY FIVE : 061 MATHEMATICS 075 019 094 NINETY FOUR p . 086 SCIENCE 057 017 074 SEVENTY FOUR ey t 087 SOCIAL SCIENCE 071 018 089 EIGHTY NINE BS . Z r SS ir 3 G v Be ie U2, fanat a af : Abbreviations Be W./PR. : WraPe /Practical Ori i Pats Deteds 06/05/2039 oF, Controller of Examinations PS pe tyre - hes. BL or SEI op Se aan oa ae e-teew creetiret : we Aerfire es anyon as 4 fh Rares pre awd wer wy ed erm nt mrwegeR me omht EY. _Co-Schoasic echlevementa : Graig for Co Scheastc and Dacpine area being nsund by Ye echool as per format rowerbed by ue \n"
     ]
    }
   ],
   "source": [
    "# Example usage\n",
    "if __name__ == \"__main__\":\n",
    "    # Image path (you can replace this with the actual image path)\n",
    "    image_path = 'images/11.jpg'\n",
    "    \n",
    "    # Process the marksheet image\n",
    "    process_marksheet(image_path)"
   ]
  },
  {
   "cell_type": "code",
   "execution_count": null,
   "id": "a93c334f-7a7d-4032-9534-52de74a949d9",
   "metadata": {},
   "outputs": [],
   "source": []
  }
 ],
 "metadata": {
  "kernelspec": {
   "display_name": "Python 3 (ipykernel)",
   "language": "python",
   "name": "python3"
  },
  "language_info": {
   "codemirror_mode": {
    "name": "ipython",
    "version": 3
   },
   "file_extension": ".py",
   "mimetype": "text/x-python",
   "name": "python",
   "nbconvert_exporter": "python",
   "pygments_lexer": "ipython3",
   "version": "3.12.4"
  },
  "widgets": {
   "application/vnd.jupyter.widget-state+json": {
    "state": {},
    "version_major": 2,
    "version_minor": 0
   }
  }
 },
 "nbformat": 4,
 "nbformat_minor": 5
}
