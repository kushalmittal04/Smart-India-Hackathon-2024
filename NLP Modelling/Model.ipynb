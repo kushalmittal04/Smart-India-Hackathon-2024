{
 "cells": [
  {
   "cell_type": "code",
   "execution_count": 1,
   "id": "edbcfde6-ad36-481e-876c-9c9acbc24e80",
   "metadata": {},
   "outputs": [],
   "source": [
    "import numpy as np\n",
    "import pandas as pd\n",
    "from sklearn.feature_extraction.text import TfidfVectorizer\n",
    "from sklearn.model_selection import train_test_split\n",
    "from sklearn.linear_model import LogisticRegression\n",
    "from sklearn.metrics import accuracy_score"
   ]
  },
  {
   "cell_type": "code",
   "execution_count": 2,
   "id": "3b3c6c13-1653-41f0-abbb-e7e3addbf687",
   "metadata": {},
   "outputs": [],
   "source": [
    "news_dataset = pd.read_csv('cleaned_stemmed_news_train_data.csv',index_col='id')"
   ]
  },
  {
   "cell_type": "code",
   "execution_count": 3,
   "id": "1e229992-1608-4920-aa34-3f682b8259c2",
   "metadata": {},
   "outputs": [
    {
     "data": {
      "text/html": [
       "<div>\n",
       "<style scoped>\n",
       "    .dataframe tbody tr th:only-of-type {\n",
       "        vertical-align: middle;\n",
       "    }\n",
       "\n",
       "    .dataframe tbody tr th {\n",
       "        vertical-align: top;\n",
       "    }\n",
       "\n",
       "    .dataframe thead th {\n",
       "        text-align: right;\n",
       "    }\n",
       "</style>\n",
       "<table border=\"1\" class=\"dataframe\">\n",
       "  <thead>\n",
       "    <tr style=\"text-align: right;\">\n",
       "      <th></th>\n",
       "      <th>title</th>\n",
       "      <th>author</th>\n",
       "      <th>text</th>\n",
       "      <th>label</th>\n",
       "      <th>content</th>\n",
       "    </tr>\n",
       "    <tr>\n",
       "      <th>id</th>\n",
       "      <th></th>\n",
       "      <th></th>\n",
       "      <th></th>\n",
       "      <th></th>\n",
       "      <th></th>\n",
       "    </tr>\n",
       "  </thead>\n",
       "  <tbody>\n",
       "    <tr>\n",
       "      <th>0</th>\n",
       "      <td>House Dem Aide: We Didn’t Even See Comey’s Let...</td>\n",
       "      <td>Darrell Lucus</td>\n",
       "      <td>House Dem Aide: We Didn’t Even See Comey’s Let...</td>\n",
       "      <td>1</td>\n",
       "      <td>darrel lucu hous dem aid even see comey letter...</td>\n",
       "    </tr>\n",
       "    <tr>\n",
       "      <th>1</th>\n",
       "      <td>FLYNN: Hillary Clinton, Big Woman on Campus - ...</td>\n",
       "      <td>Daniel J. Flynn</td>\n",
       "      <td>Ever get the feeling your life circles the rou...</td>\n",
       "      <td>0</td>\n",
       "      <td>daniel j flynn flynn hillari clinton big woman...</td>\n",
       "    </tr>\n",
       "    <tr>\n",
       "      <th>2</th>\n",
       "      <td>Why the Truth Might Get You Fired</td>\n",
       "      <td>Consortiumnews.com</td>\n",
       "      <td>Why the Truth Might Get You Fired October 29, ...</td>\n",
       "      <td>1</td>\n",
       "      <td>consortiumnew com truth might get fire truth m...</td>\n",
       "    </tr>\n",
       "    <tr>\n",
       "      <th>3</th>\n",
       "      <td>15 Civilians Killed In Single US Airstrike Hav...</td>\n",
       "      <td>Jessica Purkiss</td>\n",
       "      <td>Videos 15 Civilians Killed In Single US Airstr...</td>\n",
       "      <td>1</td>\n",
       "      <td>jessica purkiss civilian kill singl us airstri...</td>\n",
       "    </tr>\n",
       "    <tr>\n",
       "      <th>4</th>\n",
       "      <td>Iranian woman jailed for fictional unpublished...</td>\n",
       "      <td>Howard Portnoy</td>\n",
       "      <td>Print \\nAn Iranian woman has been sentenced to...</td>\n",
       "      <td>1</td>\n",
       "      <td>howard portnoy iranian woman jail fiction unpu...</td>\n",
       "    </tr>\n",
       "  </tbody>\n",
       "</table>\n",
       "</div>"
      ],
      "text/plain": [
       "                                                title              author  \\\n",
       "id                                                                          \n",
       "0   House Dem Aide: We Didn’t Even See Comey’s Let...       Darrell Lucus   \n",
       "1   FLYNN: Hillary Clinton, Big Woman on Campus - ...     Daniel J. Flynn   \n",
       "2                   Why the Truth Might Get You Fired  Consortiumnews.com   \n",
       "3   15 Civilians Killed In Single US Airstrike Hav...     Jessica Purkiss   \n",
       "4   Iranian woman jailed for fictional unpublished...      Howard Portnoy   \n",
       "\n",
       "                                                 text  label  \\\n",
       "id                                                             \n",
       "0   House Dem Aide: We Didn’t Even See Comey’s Let...      1   \n",
       "1   Ever get the feeling your life circles the rou...      0   \n",
       "2   Why the Truth Might Get You Fired October 29, ...      1   \n",
       "3   Videos 15 Civilians Killed In Single US Airstr...      1   \n",
       "4   Print \\nAn Iranian woman has been sentenced to...      1   \n",
       "\n",
       "                                              content  \n",
       "id                                                     \n",
       "0   darrel lucu hous dem aid even see comey letter...  \n",
       "1   daniel j flynn flynn hillari clinton big woman...  \n",
       "2   consortiumnew com truth might get fire truth m...  \n",
       "3   jessica purkiss civilian kill singl us airstri...  \n",
       "4   howard portnoy iranian woman jail fiction unpu...  "
      ]
     },
     "execution_count": 3,
     "metadata": {},
     "output_type": "execute_result"
    }
   ],
   "source": [
    "news_dataset.head()"
   ]
  },
  {
   "cell_type": "code",
   "execution_count": 4,
   "id": "b9258788-7ce8-4907-9a3d-37ba2699ca74",
   "metadata": {},
   "outputs": [],
   "source": [
    "#separating the data and label\n",
    "X = news_dataset['content'].values.astype('str')\n",
    "Y = news_dataset['label'].values"
   ]
  },
  {
   "cell_type": "code",
   "execution_count": 5,
   "id": "d5292e56-fe56-4da1-b410-59b819f950a5",
   "metadata": {
    "scrolled": true
   },
   "outputs": [
    {
     "name": "stdout",
     "output_type": "stream",
     "text": [
      "['darrel lucu hous dem aid even see comey letter jason chaffetz tweet hous dem aid even see comey letter jason chaffetz tweet darrel lucu octob subscrib jason chaffetz stump american fork utah imag courtesi michael jolley avail creativ common licens apolog keith olbermann doubt worst person world week fbi director jame comey accord hous democrat aid look like also know second worst person well turn comey sent infam letter announc fbi look email may relat hillari clinton email server rank democrat relev committe hear comey found via tweet one republican committe chairmen know comey notifi republican chairmen democrat rank member hous intellig judiciari oversight committe agenc review email recent discov order see contain classifi inform long letter went oversight committe chairman jason chaffetz set polit world ablaz tweet fbi dir inform fbi learn exist email appear pertin investig case reopen jason chaffetz jasoninthehous octob cours know case comey actual say review email light unrel case know anthoni weiner sext teenag appar littl thing fact matter chaffetz utah republican alreadi vow initi raft investig hillari win least two year worth possibl entir term worth appar chaffetz thought fbi alreadi work result tweet briefli roil nation cooler head realiz dud accord senior hous democrat aid misread letter may least chaffetz sin aid told shareblu boss democrat even know comey letter time found check twitter democrat rank member relev committe receiv comey letter republican chairmen fact democrat rank member receiv chairman oversight govern reform committe jason chaffetz tweet made public let see got right fbi director tell chaffetz gop committe chairmen major develop potenti polit explos investig neither chaffetz colleagu courtesi let democrat counterpart know instead accord aid made find twitter alreadi talk daili ko comey provid advanc notic letter chaffetz republican give time turn spin machin may make good theater noth far even suggest case noth far suggest comey anyth grossli incompet tone deaf suggest howev chaffetz act way make dan burton darrel issa look like model respons bipartisanship even decenc notifi rank member elijah cum someth explos trampl basic standard fair know grant like chaffetz answer sit ridicul republican district anchor provo orem cook partisan vote index r gave mitt romney punish percent vote moreov republican hous leadership given full support chaffetz plan fish expedit mean turn hot light textbook exampl hous becom republican control also second worst person world darrel lucu darrel someth graduat univers north carolina consid journalist old school attempt turn member religi right colleg succeed turn religi right worst nightmar charismat christian unapologet liber desir stand scare silenc increas surviv abus three year marriag may know daili ko christian dem nc follow twitter darrelllucu connect facebook click buy darrel mello yello connect'\n",
      " 'daniel j flynn flynn hillari clinton big woman campu breitbart ever get feel life circl roundabout rather head straight line toward intend destin hillari clinton remain big woman campu leafi liber wellesley massachusett everywher els vote like inaugur dress remaind day way miss havisham forev wore wed dress speak great expect hillari rodham overflow year ago first address wellesley graduat class presid colleg inform gather student need debat far could ascertain spokesman kind like democrat primari minu term unknown even seven sister school glad miss adam made clear speak today us us miss rodham told classmat appoint edger bergen charli mccarthi mortim snerd attend bespectacl granni glass award matronli wisdom least john lennon wisdom took issu previou speaker despit becom first win elect seat u senat sinc reconstruct edward brook came critic call empathi goal protestor critic tactic though clinton senior thesi saul alinski lament black power demagogu elitist arrog repress intoler within new left similar word come republican necessit brief rebutt trust rodham iron observ one word ask class rehears want say everyon came said talk trust talk lack trust us way feel other talk trust bust say say feel permeat gener perhap even understood distrust trust bust certainli bust clinton plan certainli even understand peopl distrust whitewat travelg vast conspiraci benghazi miss email clinton found distrust voic friday load compromis road broaden polit horizon distrust american peopl trump edg percent percent question immedi prior novemb elect stood major reason close horizon clinton describ vanquish support embrac lie con altern fact assault truth reason fail explain american peopl chose lie truth histori major among today know well peopl power invent fact attack question mark begin end free societi offer hyperbol like mani peopl emerg hillari clinton embark upon long strang trip high school goldwat girl wellesley colleg republican presid democrat politician clinton drank time place gave degre significantli went idealist cynic comparison two wellesley commenc address show way back lament long leader view polit art possibl challeng practic polit art make appear imposs possibl big woman campu odd woman white hous wonder current station even possibl point ahead ask septemb may ask presid woman famous dub congenit liar bill safir conclud lie mind get stood elect day like find jilt bride wed day inspir danger delus'\n",
      " 'consortiumnew com truth might get fire truth might get fire octob tension intellig analyst polit policymak alway honest assess desir result latter often overwhelm former iraq war write lawrenc davidson lawrenc davidson might wonder foreign polici maker repeatedli make bad choic insight might drawn follow analysi action play unit state lesson probabl univers back earli spring georg w bush initi invas iraq one key public reason claim countri dictat saddam hussein verg develop nuclear weapon hide weapon mass destruct real reason went beyond charg includ long rang plan regim chang middl east presid georg w bush vice presid dick cheney receiv oval offic brief cia director georg tenet also present chief staff andi card right white hous photo purpos concentr belief iraq becom hostil nuclear power presid bush close associ accept scenario readili short answer bush want inde need believ rational invad iraq first tri connect saddam hussein attack u though never gave stratagem lack evid made difficult ralli american peopl alreadi fixat afghanistan support war baghdad nuclear weapon gambit prove fruit hard evid charg supposedli reliabl wit person exil anti saddam iraqi mani u govern payrol kept tell bush advis nuclear stori true u leadership cadr whose worldview liter demand mortal danger iraq inform order precipit overthrow saddam will tell tale pend atom weapon strong desir believ tale nuclear iraq lower threshold proof likewis repeat assert assum depend iraqi sourc underpin nationwid u campaign gener fear war fever u alli insist unit nation send weapon inspector scour iraq evid nuclear weapon program well chemic biolog weapon inspector could find convinc evid frustrat bush administr soon forc hand march bush launch invas iraq expect occup countri u inspector would sure find evid nuke least stockpil chemic biolog weapon iraqi inform systemat lie social behavior scienc rescu variou u intellig agenc thoroughli shaken affair today year later director manag still tri sort specif tell get true intellig lie one intellig worker put need help protect us armi snake oil salesmen end cia et al market academ assist ahm chalabi head iraqi nation congress key supplier iraqi defector bogu stori hidden wmd partnership forg offic director nation intellig odni serv coordin center sixteen independ u intellig agenc nation academi scienc engin medicin result collabor perman intellig commun studi board coordin program social behavior scienc research might strengthen nation secur despit effort almost certain social behavior scienc cannot give spi agenc want way detect lie better present standard procedur polygraph test interrog even could might well make differ real problem found liar found believ believ simpli true odni leader seem assert u intellig agenc personnel cannot tell often lie case thousand middl echelon intellig worker desk offic specialist know someth close approach truth know pretti well go place like afghanistan iraq syria libya israel palestin elsewher director nation intellig jame clapper right talk presid barack obama oval offic john brennan nation secur aid present photo credit offic director nation intellig therefor someon feed snake oil usual know howev accur grasp thing often avail superior got appoint accept pre structur worldview differ criterion true analyst listen charl gaukel nation intellig council yet anoth organ act meet ground intellig agenc refer search way avoid get taken lie gaukel declar look truth particularli look truth work might mean certainli tell mean histor mean power broker truth must match fit worldview polit ideolog precept fit work intellig specialist send usual accur assess line polici maker often hit roadblock caus group think ideolog blinker know better attitud hand long sell leadership match want believ peddl anyth imaginari iraqi nuke israel western style democraci saudi arabia indispens alli libya liber countri bashar al assad real roadblock peac syria strateg defens initi sdi aka star war world get colder warmer american exception glori list almost endless sad tale tell us want spend million dollar social behavior scienc research improv assess use intellig forget liar want look antidot narrow minded believ policymak seem abl rise ideolog presumpt class presumpt underpin self confid lead us slipperi slope happen way often mani place sourc shakespear determin past prelud elit play destini free capac break structur way see yet middl echelon specialist keep send rel accur assess ladder power hope spring etern'\n",
      " ...\n",
      " 'michael j de la merc rachel abram maci said receiv takeov approach hudson bay new york time maci today grew union sever great name american retail includ namesak chain bloomingdal marshal field ambiti owner sak fifth avenu broach idea take union even combin maci creat depart store juggernaut time industri reel hudson bay compani canadian owner sak approach maci potenti takeov peopl brief matter author speak publicli said friday talk two compani earli stage may still fall apart lead partnership kind rather sale unclear whether deal happen combin could lift fortun maci countri biggest depart store struggl investor certainli appear see way share maci rose much percent friday biggest intraday gain sinc aug accord data bloomberg retail titan maci struggl remain relev discount retail decim tradit busi last month maci announc plan cut job close store terri lundgren chief execut architect maci last big merger expect step end march succeed compani presid jeffrey gennett sinc recess shopper grown accustom hunt bargain pay full price discount store outlet mall flourish tradit store compel respond trim price cut margin depart store hit especi hard particularli shopper migrat away mall emerg analyst say virtual race bottom particularli difficult maci born seri merger past two decad made juggernaut industri stalwart middl tier retail compani neither advantag retail like hm store addit maci face increasingli fierc competit onlin site like amazon elsewher maci troubl drawn attent promin activist hedg fund starboard valu urg compani gener cash sell real estat beneath store starboard held percent maci share sept previous estim valu land billion friday analyst citigroup estim maci hold could worth least billion maci market valu comparison billion friday morn maci taken step sell redevelop store last year ad expert real estat transact board compani larg resist ambiti effort divest real estat includ deal compani sell underli land beneath store rent back compani suitor hudson bay compani far smaller market valu billion canadian dollar billion known bold step hudson bay compani assembl grow empir includ hudson bay depart store chain lord taylor crown jewel sak governor execut chairman hudson bay compani richard baker shown littl fear use debt novemb compani borrow nearli billion sak flagship midtown manhattan spoken often retail need highlight valu real estat financ bid maci may trickier howev carri billion debt may mean hudson bay compani bring partner borrow real estat hold spokesman hudson bay compani declin comment talk report earlier wall street journal comment rumor specul repres maci said repres starboard valu respond request comment analyst said saw merit potenti combin particularli given maci oper woe mr baker expertis wring money real estat clear logic despit dispar cap maci hudson bay compani craig johnson presid custom growth partner research firm said note refer maci stock ticker symbol ad retail market chang faster abl keep whether flight mall migrat onlin'\n",
      " 'alex ansari nato russia hold parallel exercis balkan nato russia hold parallel exercis balkan press tv russia militari nato forc hold parallel militari exercis two neighbor balkan countri russian troop particip war game serbia nato conduct militari drill montenegro media report monday russian forc day militari exercis serbia name slavic brotherhood begin wednesday includ russian paratroop air forc staffer three transport plane unspecifi number troop serbia belaru russia defens ministri said five day nato drill montenegro start monday involv respond flood chemic attack involv unarm personnel seven nato countri partner state past serbia montenegro constitut republ socialist feder republ yugoslavia countri socialist republ tradit russian christian orthodox alli state union form serbia montenegro two becam independ state sinc split two balkan neighbor seem head differ direct strateg montenegro taken pro western stanc award nato offer join northern atlant allianc nato invit montenegro met strong opposit russia meanwhil montenegrin offici accus russia stage alleg coup octob toppl pro western govern nato access bid serbia nato partner held exercis western allianc larg one foreign troop equip particip soil'\n",
      " 'david swanson keep f aliv david swanson author activist journalist radio host nobel peac prize nomine director worldbeyondwar com campaign coordin rootsact org host talk nation radio talk nation radio vt radio syndic pacifica network show also air wtju charlottesvil va wcsx detroit mi kghi westport wa whu storr ct wprr grand rapid mi krfp lp moscow id kzgm cabool mo kmud garbervil ca wazu peoria il wxrd crown point geneva radio geneva ny kkrn round mountain ca kskq lp ashland wuow lp oneonta ny lie radio pinol ca wyap lp clay wv detour johnson citi tn wzrd chicago il weft champaign il wxpi pittsburgh pa wdrt viroqua wi verac onlin liberti justic radio shirley ithaca commun radio ithaca ny wmcb greenfield prx org kao fm olympia wa wusb fm stoni brook ny wool fm bellow fall vermont wslr lp sarasota florida also blog davidswanson org warisacrim org prolif author latest book war lie daybreak undo imperi presid form perfect union world outlaw war swanson hold master degre philosophi univers virginia work newspap report commun director job includ press secretari denni kucinich presidenti campaign media coordin intern labor commun associ three year commun coordin acorn associ commun organ reform read full complet biographi davidswanson org also visit book site war crime keep f aliv david swanson octob petit stop f go global david swanson imagin local busi town invent brand new tool intend almost magic effect thousand mile away howev tool kept use local becam area unsaf children children got near tool tend increas blood pressur increas stress hormon lower read skill poorer memori impair auditori speech percept impair academ perform us would find situat least littl concern unless new invent design murder lot peopl fine imagin new tool ruin neighborhood peopl safe live near imagin govern compens peopl kick live near locat tool think might find troubl mass murder mission imagin also tool fairli frequent explod emit highli toxic chemic particl fiber unsaf breath air mile around normal problem tool need kill lot peopl work flaw new gadget expect cost least year money taken away numer expens benefici economi world trillion drain economi caus loss job radic diminuit resourc educ healthcar hous environment protect humanitarian aid worri case mean case abil kill ton human be stake product even work perfectli lead destroy earth natur environ high tech toy even design expect even abl design amazingli even shortcom matter long intent massiv murder destruct forgiven tool describ call f rootsact org find new petit launch local mind peopl act global place f intend base also link find explan tool decrib f petit direct unit state congress govern australia itali netherland norway turkey unit kingdom israel japan south korea world peopl burlington vermont fairbank alaska f base effort initi vermont stop f coalit save sky vermont western main matter alaska peac center univers alaska fairbank peac club north star chapter veteran peac world beyond war rootsact org code pink ben cohen petit read f weapon offens war serv defens purpos plan cost u trillion year starvat earth could end billion lack clean drink water billion per year first foremost wast resourc airplan kill militari spend contrari popular misconcept also hurt u economi see economi f caus neg health impact cognit impair children live near base render hous near airport unsuit residenti use high crash rate horribl consequ live area crash emiss major environment pollut war endang unit state particip nation rather protect nonviol tool law diplomaci aid crisi prevent verifi nuclear disarma substitut continu counterproduct war therefor undersign call immedi cancel f program whole immedi cancel plan base danger noisi jet near popul area oppos replac f weapon base f locat demand redirect money f back taxpay pocket environment human need u f custom nation around world includ fight climat chang pay student debt rebuild crumbl infrastructur improv educ healthcar hous add name david swanson author activist journalist radio host director worldbeyondwar org campaign coordin rootsact org swanson book includ war lie blog davidswanson org warisacrim org host talk nation radio nobel peac prize nomine follow twitter davidcnswanson facebook help support davidswanson org warisacrim org talknationradio org click http davidswanson org donat']\n"
     ]
    }
   ],
   "source": [
    "print(X)"
   ]
  },
  {
   "cell_type": "code",
   "execution_count": 6,
   "id": "ab0daee0-892b-4be2-963f-890f85865cb0",
   "metadata": {},
   "outputs": [
    {
     "name": "stdout",
     "output_type": "stream",
     "text": [
      "[1 0 1 ... 0 1 1]\n"
     ]
    }
   ],
   "source": [
    "print(Y)"
   ]
  },
  {
   "cell_type": "code",
   "execution_count": 7,
   "id": "78ae5344-e83e-4fbb-b2b8-3b325a332906",
   "metadata": {},
   "outputs": [
    {
     "data": {
      "text/plain": [
       "(20800,)"
      ]
     },
     "execution_count": 7,
     "metadata": {},
     "output_type": "execute_result"
    }
   ],
   "source": [
    "Y.shape"
   ]
  },
  {
   "cell_type": "code",
   "execution_count": 8,
   "id": "c0de2577-7b78-42e3-a28d-a9610ea0c67d",
   "metadata": {},
   "outputs": [],
   "source": [
    "# converting the textual data to numerical data\n",
    "vectorizer = TfidfVectorizer()\n",
    "vectorizer.fit(X)\n",
    "\n",
    "X = vectorizer.transform(X)"
   ]
  },
  {
   "cell_type": "code",
   "execution_count": 9,
   "id": "a677ca3f-a89a-4056-a7c9-17bb9874868f",
   "metadata": {
    "scrolled": true
   },
   "outputs": [
    {
     "name": "stdout",
     "output_type": "stream",
     "text": [
      "<Compressed Sparse Row sparse matrix of dtype 'float64'\n",
      "\twith 5144980 stored elements and shape (20800, 111501)>\n",
      "  Coords\tValues\n",
      "  (0, 109752)\t0.049158312425168854\n",
      "  (0, 109697)\t0.0190646711515277\n",
      "  (0, 108742)\t0.04416544119908134\n",
      "  (0, 108738)\t0.09477494042884232\n",
      "  (0, 108695)\t0.03758488097939004\n",
      "  (0, 108658)\t0.01130614774071694\n",
      "  (0, 108007)\t0.017092546683505856\n",
      "  (0, 107190)\t0.017105936674103112\n",
      "  (0, 107099)\t0.012543234221230963\n",
      "  (0, 107013)\t0.029126417104928328\n",
      "  (0, 106934)\t0.012863319680563097\n",
      "  (0, 106734)\t0.011771716334271506\n",
      "  (0, 105884)\t0.025727197929110487\n",
      "  (0, 105848)\t0.031296701378124764\n",
      "  (0, 104837)\t0.02153649554212262\n",
      "  (0, 103422)\t0.06544555398259812\n",
      "  (0, 102736)\t0.03314918847150756\n",
      "  (0, 102485)\t0.01639612818098454\n",
      "  (0, 101717)\t0.038071924979380216\n",
      "  (0, 101077)\t0.011082403436475742\n",
      "  (0, 101067)\t0.0432044670628921\n",
      "  (0, 101014)\t0.13602128375819167\n",
      "  (0, 100866)\t0.0713092337063475\n",
      "  (0, 99577)\t0.03944988916619374\n",
      "  (0, 99009)\t0.027120358929731154\n",
      "  :\t:\n",
      "  (20799, 7470)\t0.010635431711878486\n",
      "  (20799, 7143)\t0.02816704434978389\n",
      "  (20799, 6848)\t0.03959171777516513\n",
      "  (20799, 6810)\t0.025365585564187044\n",
      "  (20799, 6530)\t0.0423980387875893\n",
      "  (20799, 6084)\t0.0315457284306667\n",
      "  (20799, 5872)\t0.04632206994759717\n",
      "  (20799, 5517)\t0.024097152410748182\n",
      "  (20799, 5242)\t0.045417670739832466\n",
      "  (20799, 3271)\t0.03446674804290047\n",
      "  (20799, 3042)\t0.05007515404726805\n",
      "  (20799, 2955)\t0.015323407277242013\n",
      "  (20799, 2713)\t0.047800235719237465\n",
      "  (20799, 2294)\t0.08924712342400702\n",
      "  (20799, 1997)\t0.023153895918351708\n",
      "  (20799, 1995)\t0.029380105887880807\n",
      "  (20799, 1952)\t0.03330998179427733\n",
      "  (20799, 1886)\t0.033768770862532556\n",
      "  (20799, 1027)\t0.01893705656098481\n",
      "  (20799, 903)\t0.038248338479231606\n",
      "  (20799, 873)\t0.013807510861685218\n",
      "  (20799, 815)\t0.041753611202768166\n",
      "  (20799, 559)\t0.024511273226368112\n",
      "  (20799, 323)\t0.015366447869656087\n",
      "  (20799, 305)\t0.019031597510308154\n"
     ]
    }
   ],
   "source": [
    "print(X)"
   ]
  },
  {
   "cell_type": "markdown",
   "id": "01a72617-e1f5-4964-878d-ccf54bbac3ef",
   "metadata": {},
   "source": [
    "Splitting the dataset to training & test data"
   ]
  },
  {
   "cell_type": "code",
   "execution_count": 10,
   "id": "2c6ab3f8-7c8a-4215-af28-98eca98e020a",
   "metadata": {},
   "outputs": [],
   "source": [
    "X_train, X_test, Y_train, Y_test = train_test_split(X, Y, test_size = 0.2, stratify=Y, random_state=2)"
   ]
  },
  {
   "cell_type": "markdown",
   "id": "4c93444d-5b1c-497b-b05d-4018f40f7f75",
   "metadata": {},
   "source": [
    "Training the Model: Logistic Regression"
   ]
  },
  {
   "cell_type": "code",
   "execution_count": 11,
   "id": "6b621724-d6fd-4d81-88b1-1b4b7a3e2a68",
   "metadata": {},
   "outputs": [],
   "source": [
    "model = LogisticRegression()"
   ]
  },
  {
   "cell_type": "code",
   "execution_count": 12,
   "id": "8d468a03-716b-4509-86ba-aeddad97c49e",
   "metadata": {},
   "outputs": [
    {
     "data": {
      "text/html": [
       "<style>#sk-container-id-1 {color: black;}#sk-container-id-1 pre{padding: 0;}#sk-container-id-1 div.sk-toggleable {background-color: white;}#sk-container-id-1 label.sk-toggleable__label {cursor: pointer;display: block;width: 100%;margin-bottom: 0;padding: 0.3em;box-sizing: border-box;text-align: center;}#sk-container-id-1 label.sk-toggleable__label-arrow:before {content: \"▸\";float: left;margin-right: 0.25em;color: #696969;}#sk-container-id-1 label.sk-toggleable__label-arrow:hover:before {color: black;}#sk-container-id-1 div.sk-estimator:hover label.sk-toggleable__label-arrow:before {color: black;}#sk-container-id-1 div.sk-toggleable__content {max-height: 0;max-width: 0;overflow: hidden;text-align: left;background-color: #f0f8ff;}#sk-container-id-1 div.sk-toggleable__content pre {margin: 0.2em;color: black;border-radius: 0.25em;background-color: #f0f8ff;}#sk-container-id-1 input.sk-toggleable__control:checked~div.sk-toggleable__content {max-height: 200px;max-width: 100%;overflow: auto;}#sk-container-id-1 input.sk-toggleable__control:checked~label.sk-toggleable__label-arrow:before {content: \"▾\";}#sk-container-id-1 div.sk-estimator input.sk-toggleable__control:checked~label.sk-toggleable__label {background-color: #d4ebff;}#sk-container-id-1 div.sk-label input.sk-toggleable__control:checked~label.sk-toggleable__label {background-color: #d4ebff;}#sk-container-id-1 input.sk-hidden--visually {border: 0;clip: rect(1px 1px 1px 1px);clip: rect(1px, 1px, 1px, 1px);height: 1px;margin: -1px;overflow: hidden;padding: 0;position: absolute;width: 1px;}#sk-container-id-1 div.sk-estimator {font-family: monospace;background-color: #f0f8ff;border: 1px dotted black;border-radius: 0.25em;box-sizing: border-box;margin-bottom: 0.5em;}#sk-container-id-1 div.sk-estimator:hover {background-color: #d4ebff;}#sk-container-id-1 div.sk-parallel-item::after {content: \"\";width: 100%;border-bottom: 1px solid gray;flex-grow: 1;}#sk-container-id-1 div.sk-label:hover label.sk-toggleable__label {background-color: #d4ebff;}#sk-container-id-1 div.sk-serial::before {content: \"\";position: absolute;border-left: 1px solid gray;box-sizing: border-box;top: 0;bottom: 0;left: 50%;z-index: 0;}#sk-container-id-1 div.sk-serial {display: flex;flex-direction: column;align-items: center;background-color: white;padding-right: 0.2em;padding-left: 0.2em;position: relative;}#sk-container-id-1 div.sk-item {position: relative;z-index: 1;}#sk-container-id-1 div.sk-parallel {display: flex;align-items: stretch;justify-content: center;background-color: white;position: relative;}#sk-container-id-1 div.sk-item::before, #sk-container-id-1 div.sk-parallel-item::before {content: \"\";position: absolute;border-left: 1px solid gray;box-sizing: border-box;top: 0;bottom: 0;left: 50%;z-index: -1;}#sk-container-id-1 div.sk-parallel-item {display: flex;flex-direction: column;z-index: 1;position: relative;background-color: white;}#sk-container-id-1 div.sk-parallel-item:first-child::after {align-self: flex-end;width: 50%;}#sk-container-id-1 div.sk-parallel-item:last-child::after {align-self: flex-start;width: 50%;}#sk-container-id-1 div.sk-parallel-item:only-child::after {width: 0;}#sk-container-id-1 div.sk-dashed-wrapped {border: 1px dashed gray;margin: 0 0.4em 0.5em 0.4em;box-sizing: border-box;padding-bottom: 0.4em;background-color: white;}#sk-container-id-1 div.sk-label label {font-family: monospace;font-weight: bold;display: inline-block;line-height: 1.2em;}#sk-container-id-1 div.sk-label-container {text-align: center;}#sk-container-id-1 div.sk-container {/* jupyter's `normalize.less` sets `[hidden] { display: none; }` but bootstrap.min.css set `[hidden] { display: none !important; }` so we also need the `!important` here to be able to override the default hidden behavior on the sphinx rendered scikit-learn.org. See: https://github.com/scikit-learn/scikit-learn/issues/21755 */display: inline-block !important;position: relative;}#sk-container-id-1 div.sk-text-repr-fallback {display: none;}</style><div id=\"sk-container-id-1\" class=\"sk-top-container\"><div class=\"sk-text-repr-fallback\"><pre>LogisticRegression()</pre><b>In a Jupyter environment, please rerun this cell to show the HTML representation or trust the notebook. <br />On GitHub, the HTML representation is unable to render, please try loading this page with nbviewer.org.</b></div><div class=\"sk-container\" hidden><div class=\"sk-item\"><div class=\"sk-estimator sk-toggleable\"><input class=\"sk-toggleable__control sk-hidden--visually\" id=\"sk-estimator-id-1\" type=\"checkbox\" checked><label for=\"sk-estimator-id-1\" class=\"sk-toggleable__label sk-toggleable__label-arrow\">LogisticRegression</label><div class=\"sk-toggleable__content\"><pre>LogisticRegression()</pre></div></div></div></div></div>"
      ],
      "text/plain": [
       "LogisticRegression()"
      ]
     },
     "execution_count": 12,
     "metadata": {},
     "output_type": "execute_result"
    }
   ],
   "source": [
    "model.fit(X_train, Y_train)"
   ]
  },
  {
   "cell_type": "markdown",
   "id": "5e6b1d18-2b00-4974-8553-8225114e434c",
   "metadata": {},
   "source": [
    "Evaluation"
   ]
  },
  {
   "cell_type": "markdown",
   "id": "d7ffc8fa-c074-4194-a08b-7d0abb9502f3",
   "metadata": {},
   "source": [
    "accuracy score"
   ]
  },
  {
   "cell_type": "code",
   "execution_count": 13,
   "id": "6903a5e3-b804-4869-962f-1414b69f196c",
   "metadata": {},
   "outputs": [],
   "source": [
    "# accuracy score on the training data\n",
    "X_train_prediction = model.predict(X_train)\n",
    "training_data_accuracy = accuracy_score(X_train_prediction, Y_train)"
   ]
  },
  {
   "cell_type": "code",
   "execution_count": 14,
   "id": "42789e3e-1ad8-4573-877d-b86944a74db6",
   "metadata": {},
   "outputs": [
    {
     "name": "stdout",
     "output_type": "stream",
     "text": [
      "Accuracy score of the training data :  0.9798677884615384\n"
     ]
    }
   ],
   "source": [
    "print('Accuracy score of the training data : ', training_data_accuracy)"
   ]
  },
  {
   "cell_type": "code",
   "execution_count": 15,
   "id": "b93d8d87-df5f-4a1c-a10b-476bdedbda84",
   "metadata": {},
   "outputs": [],
   "source": [
    "# accuracy score on the training data\n",
    "X_test_prediction = model.predict(X_test)\n",
    "testing_data_accuracy = accuracy_score(X_test_prediction, Y_test)"
   ]
  },
  {
   "cell_type": "code",
   "execution_count": 16,
   "id": "63aef0ed-52dd-4bd2-ab4a-5b4a1bd24e78",
   "metadata": {},
   "outputs": [
    {
     "name": "stdout",
     "output_type": "stream",
     "text": [
      "Accuracy score of the test data :  0.9543269230769231\n"
     ]
    }
   ],
   "source": [
    "print('Accuracy score of the test data : ', testing_data_accuracy)"
   ]
  },
  {
   "cell_type": "markdown",
   "id": "4c98876d-1d86-42fd-b6fa-0547b2eb3ab1",
   "metadata": {},
   "source": [
    "Making a Predictive System"
   ]
  },
  {
   "cell_type": "code",
   "execution_count": 17,
   "id": "7a6c2600-fe5a-47ba-ada4-082ac2f3a234",
   "metadata": {},
   "outputs": [
    {
     "name": "stdout",
     "output_type": "stream",
     "text": [
      "[1]\n",
      "The news is Fake\n"
     ]
    }
   ],
   "source": [
    "X_new = X_test[0]\n",
    "\n",
    "prediction = model.predict(X_new)\n",
    "print(prediction)\n",
    "\n",
    "if (prediction[0]==0):\n",
    "  print('The news is Real')\n",
    "else:\n",
    "  print('The news is Fake')"
   ]
  },
  {
   "cell_type": "code",
   "execution_count": 18,
   "id": "3e728251-6a06-4246-a0ca-e37a16cb8d8d",
   "metadata": {},
   "outputs": [
    {
     "name": "stdout",
     "output_type": "stream",
     "text": [
      "1\n"
     ]
    }
   ],
   "source": [
    "print(Y_test[0])"
   ]
  },
  {
   "cell_type": "code",
   "execution_count": null,
   "id": "72cde83a-15f1-4693-97dd-c6ecf4091ecb",
   "metadata": {},
   "outputs": [],
   "source": []
  },
  {
   "cell_type": "markdown",
   "id": "a98e6c4c-cc96-48fc-b755-515c90584fab",
   "metadata": {},
   "source": [
    "Prediction of Data from test.csv and Checking it with Submit.csv"
   ]
  },
  {
   "cell_type": "code",
   "execution_count": 19,
   "id": "5570448a-b275-49aa-aa6e-ace25979aff5",
   "metadata": {},
   "outputs": [],
   "source": [
    "# importing the cleaned_stemmed_news_test_data.csv\n",
    "X_test_cases = pd.read_csv('cleaned_stemmed_news_test_data.csv', usecols=['id','content'], index_col='id')"
   ]
  },
  {
   "cell_type": "code",
   "execution_count": 20,
   "id": "27d21c3e-54a5-4f24-8506-6c3ba8db757b",
   "metadata": {},
   "outputs": [
    {
     "data": {
      "text/html": [
       "<div>\n",
       "<style scoped>\n",
       "    .dataframe tbody tr th:only-of-type {\n",
       "        vertical-align: middle;\n",
       "    }\n",
       "\n",
       "    .dataframe tbody tr th {\n",
       "        vertical-align: top;\n",
       "    }\n",
       "\n",
       "    .dataframe thead th {\n",
       "        text-align: right;\n",
       "    }\n",
       "</style>\n",
       "<table border=\"1\" class=\"dataframe\">\n",
       "  <thead>\n",
       "    <tr style=\"text-align: right;\">\n",
       "      <th></th>\n",
       "      <th>content</th>\n",
       "    </tr>\n",
       "    <tr>\n",
       "      <th>id</th>\n",
       "      <th></th>\n",
       "    </tr>\n",
       "  </thead>\n",
       "  <tbody>\n",
       "    <tr>\n",
       "      <th>20800</th>\n",
       "      <td>specter trump loosen tongu purs string silicon...</td>\n",
       "    </tr>\n",
       "    <tr>\n",
       "      <th>20801</th>\n",
       "      <td>russian warship readi strike terrorist near al...</td>\n",
       "    </tr>\n",
       "    <tr>\n",
       "      <th>20802</th>\n",
       "      <td>nodapl nativ american leader vow stay winter f...</td>\n",
       "    </tr>\n",
       "    <tr>\n",
       "      <th>20803</th>\n",
       "      <td>tim tebow attempt anoth comeback time basebal ...</td>\n",
       "    </tr>\n",
       "    <tr>\n",
       "      <th>20804</th>\n",
       "      <td>keiser report meme war e truth broadcast netwo...</td>\n",
       "    </tr>\n",
       "  </tbody>\n",
       "</table>\n",
       "</div>"
      ],
      "text/plain": [
       "                                                 content\n",
       "id                                                      \n",
       "20800  specter trump loosen tongu purs string silicon...\n",
       "20801  russian warship readi strike terrorist near al...\n",
       "20802  nodapl nativ american leader vow stay winter f...\n",
       "20803  tim tebow attempt anoth comeback time basebal ...\n",
       "20804  keiser report meme war e truth broadcast netwo..."
      ]
     },
     "execution_count": 20,
     "metadata": {},
     "output_type": "execute_result"
    }
   ],
   "source": [
    "X_test_cases.head()"
   ]
  },
  {
   "cell_type": "code",
   "execution_count": 21,
   "id": "44bdf445-4908-4929-b5d3-d61e1fb17a85",
   "metadata": {},
   "outputs": [],
   "source": [
    "test_cases = X_test_cases['content'].values.astype('str')"
   ]
  },
  {
   "cell_type": "code",
   "execution_count": 22,
   "id": "b6d4d07b-025e-4fa0-a5fc-1c42cdaa3a0c",
   "metadata": {},
   "outputs": [],
   "source": [
    "test_cases = vectorizer.transform(test_cases)"
   ]
  },
  {
   "cell_type": "code",
   "execution_count": 23,
   "id": "9892d0ac-c05f-4f62-b537-137285443bb9",
   "metadata": {},
   "outputs": [],
   "source": [
    "# accuracy score on the test cases data\n",
    "test_cases_prediction = model.predict(test_cases)"
   ]
  },
  {
   "cell_type": "code",
   "execution_count": 24,
   "id": "6fcac717-1744-47c7-a4b9-cadb9047cba7",
   "metadata": {},
   "outputs": [],
   "source": [
    "# importing the submit.csv to check accuracy\n",
    "Y_test_results = pd.read_csv('submit.csv', index_col='id')"
   ]
  },
  {
   "cell_type": "code",
   "execution_count": 25,
   "id": "1f8e63c0-4966-4a36-9d51-863f30cddbbf",
   "metadata": {},
   "outputs": [],
   "source": [
    "# importing the cleaned_stemmed_news_test_data.csv\n",
    "test_results = Y_test_results['label'].values"
   ]
  },
  {
   "cell_type": "code",
   "execution_count": 26,
   "id": "d8d03eda-a9b9-48e0-85a3-e37763c96489",
   "metadata": {},
   "outputs": [],
   "source": [
    "model_accuracy = accuracy_score(test_cases_prediction, test_results)"
   ]
  },
  {
   "cell_type": "code",
   "execution_count": 27,
   "id": "da39855c-441c-43ff-a106-e8cc66c9f96d",
   "metadata": {},
   "outputs": [
    {
     "name": "stdout",
     "output_type": "stream",
     "text": [
      "Our Regression Model Accuracy Score is:  0.6336538461538461\n"
     ]
    }
   ],
   "source": [
    "print('Our Regression Model Accuracy Score is: ', model_accuracy)"
   ]
  },
  {
   "cell_type": "code",
   "execution_count": 28,
   "id": "0f7d0a2e-13b0-4e0b-864f-b90459c6db29",
   "metadata": {
    "scrolled": true
   },
   "outputs": [
    {
     "name": "stdout",
     "output_type": "stream",
     "text": [
      "[0 1 1 0 1 1 0 1 1 1 1 1 1 1 1 0 0 0 1 0 1 1 1 1 1 0 1 0 0 1 0 1 0 0 1 0 0\n",
      " 1 1 0 0 0 1 0 0 1 0 0 1 1 0 1 0 0 1 0 1 0 0 0 1 1 1 0 1 1 1 1 1 0 1 1 1 0\n",
      " 0 0 0 0 1 0 0 1 0 1 1 1 1 0 0 0 1 0 0 1 1 0 0 0 1 1 0 1 0 0 0 0 1 0 1 1 1\n",
      " 1 0 0 0 0 0 1 0 1 0 0 1 0 0 1 1 0 1 0 1 0 1 0 0 0 0 1 1 1 1 0 1 1 1 0 1 1\n",
      " 0 0 1 1 0 1 0 1 0 1 1 1 1 1 1 1 0 1 0 1 1 0 0 0 0 1 0 0 0 0 0 0 0 0 0 1 0\n",
      " 1 1 0 1 0 1 0 0 0 1 1 1 0 1 0 0 1 0 1 0 1 1 1 0 1 0 1 0 0 1 1 1 0 0 1 0 1\n",
      " 0 0 0 1 1 1 0 0 0 0 1 1 1 1 1 1 1 0 1 1 0 1 1 0 0 1 0 1 1 1 1 0 1 0 0 1 1\n",
      " 1 0 1 1 0 1 1 1 1 0 1 0 1 1 1 0 0 0 0 0 1 1 1 0 1 1 0 0 1 0 1 0 1 0 1 1 1\n",
      " 1 0 1 0 0 0 1 1 1 0 1 1 0 0 0 1 1 0 0 1 0 1 0 1 0 0 0 1 0 1 1 0 0 1 1 0 1\n",
      " 1 0 1 1 0 0 0 1 0 1 0 1 0 1 1 0 1 1 0 1 1 0 1 0 1 0 0 1 1 1 1 1 0 1 1 0 0\n",
      " 0 1 0 0 1 0 1 1 0 0 0 1 1 0 1 1 0 1 0 0 1 1 1 1 0 0 1 0 0 0 0 0 0 0 1 0 0\n",
      " 0 0 0 1 0 0 0 0 0 0 0 0 0 0 0 1 0 1 1 0 1 0 0 0 1 0 1 0 0 0 1 1 0 1 0 1 0\n",
      " 0 1 0 1 0 0 1 1 1 1 0 0 0 0 1 1 0 0 0 0 0 0 0 0 0 0 1 0 0 0 1 0 1 1 0 1 1\n",
      " 0 1 0 0 0 1 1 0 0 0 0 0 1 0 0 0 1 1 1 1 0 0 0 1 1 0 0 0 0 1 1 1 0 0 1 1 0\n",
      " 0 0 0 0 1 1 0 1 0 0 1 1 1 1 1 1 1 0 1 0 1 0 1 1 1 0 0 1 0 0 1 0 0 1 0 1 1\n",
      " 0 1 0 0 1 0 1 0 0 1 1 0 1 1 0 1 0 1 0 0 0 0 1 0 0 0 0 1 1 0 1 1 1 0 1 1 1\n",
      " 0 0 0 0 0 0 0 0 1 0 1 1 0 0 0 1 0 0 1 1 0 0 0 1 1 0 0 1 1 0 1 0 0 0 1 0 1\n",
      " 0 0 1 0 1 1 0 0 1 0 1 0 1 1 1 0 1 1 0 1 0 1 1 0 1 0 1 0 1 0 0 1 1 0 1 0 0\n",
      " 0 0 0 0 0 1 0 0 0 0 1 1 0 1 1 0 1 0 0 1 0 1 1 0 0 0 1 1 0 0 1 0 1 0 0 0 0\n",
      " 1 1 1 1 0 0 0 0 1 0 1 0 0 1 1 0 0 1 0 1 1 1 0 0 0 0 0 0 0 0 0 0 0 0 1 1 0\n",
      " 1 1 0 0 1 0 0 0 0 0 1 1 1 1 0 1 0 0 1 1 0 0 0 0 1 1 0 1 0 0 0 1 0 1 0 0 0\n",
      " 1 1 1 1 1 1 1 1 1 0 0 0 0 0 0 0 1 1 0 0 1 0 0 0 0 1 1 0 0 0 1 0 1 1 1 1 0\n",
      " 1 0 0 0 1 0 0 1 0 1 1 0 0 1 1 1 0 1 0 1 0 1 0 1 1 1 1 1 0 0 0 1 0 0 0 1 1\n",
      " 1 1 0 1 0 1 1 1 0 0 1 0 1 0 1 0 1 1 0 1 0 0 1 0 0 0 1 1 0 0 1 1 1 1 1 1 1\n",
      " 1 1 1 0 1 0 0 1 0 0 0 1 1 0 0 0 0 1 0 1 1 1 0 0 1 1 1 0 0 0 1 0 0 1 1 1 0\n",
      " 1 1 0 0 1 1 0 1 1 0 1 0 0 1 0 1 1 1 1 1 0 1 1 1 1 1 0 0 1 0 0 1 1 0 0 1 0\n",
      " 1 1 0 1 1 0 0 1 0 0 0 0 1 0 0 0 1 0 0 0 1 1 1 1 0 0 0 1 1 0 0 0 1 0 1 0 1\n",
      " 0 0 1 1 1 0 0 1 1 1 1 1 1 0 0 1 0 1 0 1 0 0 1 0 0 1 0 1 1 1 1 1 1 0 1 1 1\n",
      " 0 1 0 1 1 1 0 0 1 0 0 1 1 1 1 0 0 1 1 1 0 1 0 0 0 1 1 1 0 1 1 0 0 1 1 0 0\n",
      " 1 1 1 0 0 1 1 0 1 1 0 1 0 0 0 1 0 1 0 0 0 0 1 1 0 0 1 0 1 1 1 1 1 1 1 1 0\n",
      " 1 0 0 0 1 1 1 0 0 0 0 0 0 0 0 1 0 1 1 1 1 1 1 1 1 0 1 1 1 1 1 0 0 1 1 1 1\n",
      " 1 0 0 1 1 1 0 1 1 0 1 0 0 1 0 0 0 0 0 1 0 1 1 0 1 0 0 1 1 1 0 1 0 0 1 0 0\n",
      " 1 1 0 1 0 0 1 0 1 1 0 1 0 0 0 0 0 1 1 1 1 1 1 0 0 0 0 1 0 0 0 0 0 0 0 1 1\n",
      " 1 0 1 0 0 1 1 0 1 1 1 0 1 1 0 0 0 1 0 0 1 1 0 0 1 1 0 1 1 0 0 0 0 1 1 1 1\n",
      " 1 1 0 1 1 0 0 1 1 0 1 1 1 1 0 0 1 0 0 0 0 0 0 1 0 0 0 1 1 1 0 1 1 0 1 1 0\n",
      " 0 1 0 0 0 0 0 1 0 1 0 0 0 1 0 1 1 1 1 0 1 0 0 0 0 1 1 1 0 1 0 1 1 0 0 1 1\n",
      " 0 1 0 0 0 0 0 0 0 1 1 0 1 0 0 1 0 1 0 0 1 0 0 1 0 1 1 1 1 1 0 0 0 1 1 0 1\n",
      " 1 0 0 1 0 1 0 0 0 1 0 0 1 0 0 1 1 1 0 0 0 1 0 1 1 0 1 0 1 1 0 0 0 0 1 1 0\n",
      " 1 0 1 1 0 1 1 1 1 0 0 1 1 1 0 0 1 1 1 1 0 0 1 0 1 1 0 0 0 0 1 1 1 1 0 0 1\n",
      " 0 1 1 0 0 1 0 1 0 1 0 0 0 1 0 1 1 1 0 1 0 1 1 0 0 1 0 0 0 1 1 0 1 1 0 1 1\n",
      " 0 0 1 1 0 1 1 0 1 1 0 0 0 0 0 1 1 0 0 1 1 1 0 0 1 1 1 1 0 0 0 0 0 1 1 1 1\n",
      " 0 0 1 0 1 0 1 0 1 1 0 1 1 1 1 0 1 1 0 0 0 1 0 0 0 1 0 0 0 1 1 0 0 1 0 1 1\n",
      " 1 0 1 1 1 1 1 0 0 0 1 1 1 0 0 0 1 1 1 0 0 0 0 1 1 1 0 1 1 1 0 1 1 1 0 1 0\n",
      " 1 0 1 0 1 0 1 0 1 0 1 0 1 1 1 1 1 0 0 0 1 1 0 1 1 0 1 1 1 0 0 0 0 0 1 0 1\n",
      " 1 0 0 1 1 1 1 1 0 0 1 0 1 1 1 0 1 0 0 1 1 1 1 1 0 0 1 1 1 0 0 0 0 1 0 0 0\n",
      " 1 1 1 0 0 0 1 0 1 0 1 1 1 1 0 1 1 1 0 0 0 1 0 0 0 0 1 0 0 1 0 0 0 1 0 0 0\n",
      " 0 0 0 0 1 1 1 1 1 0 0 0 1 0 1 1 0 1 0 1 1 0 1 0 0 1 0 1 1 1 1 1 1 0 0 1 1\n",
      " 0 0 1 0 0 1 0 0 1 0 1 0 0 0 0 1 0 0 1 0 1 0 0 1 1 1 0 0 0 1 0 0 1 1 1 1 1\n",
      " 1 0 1 1 0 0 1 0 0 1 0 1 0 0 0 1 0 0 0 0 0 1 0 0 1 1 0 0 0 0 1 0 0 0 1 1 0\n",
      " 1 1 1 0 1 1 1 0 1 1 0 0 1 0 0 1 1 1 0 1 0 0 0 1 1 0 0 1 0 1 0 0 1 0 1 1 1\n",
      " 1 1 0 1 1 1 0 1 0 0 0 1 1 1 0 1 1 0 0 1 0 1 1 1 1 1 1 1 0 1 0 1 0 0 1 0 0\n",
      " 0 0 0 0 0 1 0 0 1 1 1 1 1 1 1 0 0 0 1 0 1 1 1 0 0 0 1 0 0 1 0 0 1 0 0 1 0\n",
      " 0 0 0 0 0 1 1 0 1 1 1 0 1 1 0 1 0 1 0 0 0 1 1 1 0 1 1 0 0 1 0 1 0 0 1 1 0\n",
      " 1 1 0 0 0 0 0 0 1 1 0 1 0 1 0 0 1 0 1 1 0 1 1 1 1 0 0 0 1 1 0 1 1 0 1 1 0\n",
      " 0 1 0 1 1 1 0 1 1 0 1 1 0 1 0 1 0 0 0 0 1 1 0 1 1 0 0 0 0 1 1 1 0 1 0 0 0\n",
      " 1 1 1 1 1 1 1 1 1 1 0 1 1 0 1 0 0 1 0 1 0 0 0 0 0 0 1 1 1 0 0 1 0 1 0 1 1\n",
      " 0 0 0 1 1 1 0 1 1 0 1 0 1 0 0 1 0 0 1 1 1 0 1 1 0 1 0 0 1 0 1 1 0 0 0 1 1\n",
      " 0 1 0 1 1 1 0 0 1 0 1 1 1 0 1 1 1 1 1 1 0 1 0 1 0 1 1 1 1 1 0 0 0 1 1 0 1\n",
      " 0 0 1 1 1 1 0 0 1 0 1 0 0 1 1 1 0 0 1 1 0 0 0 0 1 0 1 1 1 0 0 0 1 0 1 0 0\n",
      " 1 0 0 1 1 1 1 0 1 0 0 0 1 1 1 1 1 0 0 1 1 1 1 1 1 0 0 0 1 1 0 1 1 1 0 0 0\n",
      " 0 1 0 0 1 0 1 1 0 0 0 0 1 0 0 1 1 1 0 0 1 1 1 0 1 0 1 0 1 0 0 1 0 0 1 1 1\n",
      " 1 1 0 0 0 0 0 1 1 1 0 0 0 1 0 1 0 0 0 1 0 0 0 0 1 0 0 0 0 1 0 0 1 0 1 0 0\n",
      " 0 0 1 0 1 0 0 1 0 0 0 0 0 0 1 1 0 0 0 1 1 1 0 0 1 1 0 1 1 1 0 0 0 0 1 1 1\n",
      " 1 0 0 1 1 0 1 1 0 1 0 0 1 0 0 0 0 1 0 1 1 1 1 1 0 1 1 0 0 0 0 0 1 0 1 0 1\n",
      " 1 0 1 0 0 0 1 1 1 1 0 1 0 0 0 1 0 0 1 1 0 1 1 0 0 1 1 0 0 0 0 1 0 0 0 1 1\n",
      " 0 1 0 0 0 0 0 0 1 1 0 1 1 0 0 0 1 0 1 1 1 0 0 1 1 1 1 1 0 0 1 0 0 1 0 1 1\n",
      " 0 1 0 1 1 1 1 1 0 0 0 0 1 1 0 0 0 0 0 0 1 0 1 1 0 1 1 1 0 0 0 1 1 0 0 1 1\n",
      " 0 1 0 0 1 0 0 1 0 0 0 1 0 0 1 0 1 0 0 0 1 0 1 1 0 1 1 1 1 0 0 0 0 1 1 0 0\n",
      " 1 0 1 0 1 0 0 1 1 1 1 1 1 1 1 1 1 0 0 1 0 0 1 0 0 0 0 1 1 1 0 1 0 1 0 1 0\n",
      " 1 1 0 1 1 0 1 0 1 1 0 0 0 1 1 1 1 0 0 1 1 1 1 1 0 0 1 0 1 0 1 0 1 1 0 1 0\n",
      " 1 1 0 1 1 0 0 1 1 1 1 0 1 1 1 0 0 1 1 1 1 1 0 0 0 1 0 0 1 0 0 0 1 1 1 1 1\n",
      " 0 1 1 0 1 1 1 1 0 1 1 0 0 1 0 1 1 0 1 1 1 0 0 1 0 1 1 1 0 1 1 0 1 1 0 0 1\n",
      " 0 1 0 1 1 0 0 1 1 1 0 0 1 1 1 0 1 1 1 0 1 1 0 0 1 1 0 0 0 0 1 1 1 0 0 0 1\n",
      " 0 0 0 1 1 1 1 0 1 0 1 0 1 0 0 0 1 0 0 1 1 1 1 1 1 0 0 1 1 0 0 0 1 1 0 1 1\n",
      " 0 0 0 1 0 0 0 1 0 0 1 1 0 1 1 1 0 1 0 1 1 1 0 0 1 0 0 1 0 0 1 1 0 0 1 1 1\n",
      " 1 1 0 0 1 0 0 1 0 0 1 1 1 1 1 0 0 0 1 1 1 0 0 0 1 0 1 0 0 1 0 0 0 0 0 1 0\n",
      " 0 0 1 1 0 1 0 1 1 1 1 0 0 0 0 1 0 0 0 1 0 0 0 1 0 0 1 0 1 0 0 1 0 1 1 0 1\n",
      " 1 0 0 0 1 1 0 0 1 0 0 1 1 1 0 0 0 0 1 0 0 1 1 0 0 0 1 1 1 1 1 1 0 0 0 1 0\n",
      " 1 0 1 1 0 0 1 0 0 0 0 0 0 0 1 0 1 0 1 1 1 0 0 1 1 1 0 1 1 0 1 0 1 1 0 1 1\n",
      " 0 1 0 1 1 1 0 0 0 0 1 0 0 1 0 0 0 1 1 1 1 0 1 0 0 1 0 1 1 0 0 1 0 0 1 1 0\n",
      " 0 1 0 0 1 1 1 0 0 1 0 0 0 0 1 1 0 0 1 0 0 0 0 1 1 0 0 1 1 1 0 1 0 0 0 1 0\n",
      " 0 1 0 0 0 1 0 0 0 1 0 0 0 0 0 0 1 0 1 1 1 1 1 1 1 1 1 1 1 1 1 1 1 1 1 0 0\n",
      " 1 1 1 1 0 0 1 1 1 1 1 1 0 1 0 1 0 1 0 0 0 1 0 0 0 1 0 0 1 0 0 0 1 0 1 0 1\n",
      " 0 1 1 0 0 0 1 1 0 0 1 1 0 0 1 1 0 0 1 1 0 1 1 1 0 1 1 1 0 0 0 0 1 0 0 1 1\n",
      " 0 1 0 0 1 1 1 1 0 0 0 1 0 0 0 1 0 1 1 1 0 1 1 0 0 1 0 0 1 1 0 1 0 0 1 0 0\n",
      " 1 1 1 1 0 0 0 1 1 1 0 0 0 1 1 0 1 1 1 0 0 0 1 1 0 1 1 1 0 1 0 0 0 0 0 0 0\n",
      " 1 0 1 1 1 1 1 0 0 0 0 1 0 1 1 0 1 0 1 0 0 0 1 0 0 1 1 1 1 1 0 1 0 1 0 1 0\n",
      " 0 0 1 1 1 0 1 0 1 1 0 0 1 1 1 0 0 1 0 0 1 0 1 1 1 0 0 0 0 1 1 0 1 1 0 0 1\n",
      " 0 0 0 0 1 1 1 0 1 0 0 0 0 1 1 0 0 1 0 0 0 1 0 1 1 0 1 1 0 1 0 0 0 0 0 1 0\n",
      " 0 1 0 1 0 1 0 0 1 1 0 0 0 1 0 0 1 0 1 0 0 1 1 0 0 0 1 0 0 1 1 1 0 1 0 1 1\n",
      " 1 1 0 0 0 1 0 1 1 0 1 0 0 1 0 0 1 0 0 1 1 1 0 0 1 0 1 1 1 1 1 1 0 0 1 0 0\n",
      " 1 1 0 1 1 0 1 0 1 1 1 1 0 0 0 1 1 0 1 1 1 0 1 1 1 0 0 0 0 1 1 0 0 1 1 0 0\n",
      " 0 0 0 0 0 1 0 1 1 0 1 0 0 0 1 0 1 1 0 0 0 0 0 0 0 1 1 1 0 0 1 0 1 0 0 0 1\n",
      " 0 1 0 1 0 0 0 1 1 0 1 0 1 0 0 0 1 1 0 1 1 1 1 1 0 0 1 0 0 1 1 1 1 0 1 0 1\n",
      " 1 0 0 1 0 1 0 0 1 0 0 1 1 0 0 1 0 1 1 0 0 0 0 1 0 0 0 0 0 1 1 0 0 0 1 1 0\n",
      " 1 0 0 1 1 1 1 1 0 0 1 1 0 0 1 1 1 1 1 0 0 0 0 1 1 0 1 0 0 1 1 0 0 0 0 1 0\n",
      " 1 0 0 1 1 0 0 1 0 1 1 1 1 1 1 0 1 1 1 0 1 1 0 0 0 0 1 0 0 1 0 0 1 0 0 0 0\n",
      " 0 0 1 0 0 0 0 1 1 0 0 0 0 0 0 1 0 0 1 1 1 0 0 1 1 1 1 0 1 1 1 0 0 0 1 0 1\n",
      " 1 1 1 1 0 1 0 0 1 1 1 0 1 0 0 0 0 1 1 1 0 0 1 1 0 1 0 1 1 0 0 1 0 0 1 1 1\n",
      " 1 0 0 1 0 0 0 0 1 0 0 0 0 0 1 1 0 0 1 1 1 1 1 1 1 0 0 1 1 0 0 0 1 1 0 0 0\n",
      " 1 1 0 1 1 1 1 0 0 0 1 1 1 0 1 0 1 0 1 1 1 1 0 1 1 0 0 1 0 0 0 1 1 0 1 1 1\n",
      " 0 1 0 0 0 1 0 0 0 1 0 0 1 0 1 1 0 0 0 1 1 0 1 1 0 1 1 1 0 1 1 1 0 0 1 0 1\n",
      " 0 1 1 0 1 1 0 1 1 1 1 1 1 0 1 1 0 0 0 0 0 1 1 0 1 0 0 0 1 0 0 0 1 1 0 1 1\n",
      " 1 1 1 1 1 0 0 0 1 0 0 0 1 0 0 1 0 0 1 1 0 1 1 0 1 1 1 0 1 1 1 1 1 1 1 1 1\n",
      " 1 0 0 0 1 1 1 1 1 1 1 0 0 0 0 1 0 1 1 0 1 0 0 0 1 1 0 0 0 0 0 0 1 0 1 0 1\n",
      " 1 1 0 1 0 0 1 0 1 1 1 1 0 0 1 1 0 1 1 0 0 0 1 1 0 1 1 0 1 1 1 0 1 1 1 0 0\n",
      " 0 0 0 0 1 0 1 1 1 0 1 0 1 1 1 1 1 0 0 0 1 1 0 1 1 0 1 0 0 0 0 0 1 0 0 1 1\n",
      " 1 0 1 0 1 0 0 0 0 0 0 1 0 0 0 1 0 0 0 0 1 0 1 0 0 0 1 0 1 1 1 0 0 0 1 1 1\n",
      " 0 0 0 1 0 1 0 1 1 1 1 0 1 0 1 0 1 1 0 1 0 1 1 0 1 0 1 1 1 0 0 0 0 0 1 0 0\n",
      " 1 0 1 1 0 1 1 1 1 1 1 1 0 0 1 0 1 0 0 1 1 0 1 0 0 0 0 0 0 0 0 1 0 0 1 1 0\n",
      " 1 1 0 1 1 0 1 1 1 0 1 1 0 0 1 0 0 1 1 0 0 1 1 1 0 1 0 1 0 0 1 0 1 1 1 0 1\n",
      " 1 1 0 1 1 1 0 1 1 0 0 1 1 0 0 0 1 1 1 1 0 1 1 1 0 0 1 1 0 0 1 1 0 0 0 1 1\n",
      " 1 1 1 0 1 0 1 0 0 0 0 0 1 1 0 1 1 1 0 1 0 0 1 1 0 1 1 0 1 1 0 1 1 0 1 0 0\n",
      " 0 0 1 1 1 1 0 0 1 1 0 0 1 0 0 0 0 1 1 1 0 1 1 1 0 0 1 1 1 1 1 1 0 1 1 0 1\n",
      " 1 0 1 1 1 0 1 1 0 1 1 0 0 1 0 0 0 1 0 0 1 0 0 0 1 0 0 1 1 1 0 1 1 1 0 0 1\n",
      " 1 1 1 0 1 0 1 1 0 1 1 1 1 1 1 0 1 0 0 1 0 0 1 0 0 0 1 0 0 1 0 1 1 1 0 1 0\n",
      " 1 1 1 1 1 1 0 0 1 1 1 0 1 0 0 0 1 1 0 1 0 0 1 0 0 1 1 0 0 1 0 1 1 1 1 1 0\n",
      " 0 1 1 0 0 1 0 0 0 1 1 0 0 0 1 1 1 1 0 0 1 0 0 1 0 1 0 0 0 1 0 0 1 0 0 1 0\n",
      " 0 0 0 1 1 0 1 0 1 0 0 1 1 1 1 1 1 0 1 1 1 0 1 0 0 1 1 1 1 1 0 1 1 1 0 1 1\n",
      " 0 1 1 0 0 1 0 0 0 1 1 1 0 0 0 1 0 0 1 1 1 1 0 1 0 0 1 0 0 0 0 1 1 1 1 1 1\n",
      " 1 0 0 1 0 0 1 0 1 1 1 1 1 0 0 1 1 1 1 0 0 1 0 1 0 1 1 1 0 1 0 0 1 1 0 1 0\n",
      " 1 1 0 1 1 1 1 1 0 0 0 1 0 0 1 0 0 0 0 1 1 1 1 0 0 0 0 0 0 1 1 0 0 1 0 0 1\n",
      " 1 1 0 1 1 1 0 1 0 1 0 1 0 0 0 0 1 0 1 0 1 1 1 1 0 1 0 1 0 0 1 1 1 1 0 1 1\n",
      " 0 0 1 1 1 0 0 1 1 1 1 0 1 0 1 0 1 0 0 0 1 0 1 0 1 0 1 0 0 1 0 1 1 0 0 1 1\n",
      " 0 1 0 0 1 1 0 1 1 1 0 0 1 1 1 1 1 1 1 0 0 1 1 0 0 1 0 1 0 0 0 0 1 1 0 0 1\n",
      " 0 1 1 1 1 1 1 0 0 0 1 0 1 1 0 1 0 0 0 0 1 0 1 0 0 1 1 0 1 0 1 0 1 1 1 0 1\n",
      " 0 0 1 0 1 0 1 0 1 1 0 0 1 1 0 1 0 0 1 1 1 1 0 1 1 1 0 0 0 1 1 0 0 1 1 1 1\n",
      " 1 0 0 1 1 0 1 1 1 1 0 1 1 1 1 0 0 1 0 0 1 1 0 1 0 1 0 1 0 0 0 0 0 1 0 1 1\n",
      " 1 0 1 0 1 1 0 1 1 0 1 1 0 1 0 1 0 0 0 0 1 0 1 1 0 1 1 0 0 1 1 0 1 1 1 0 1\n",
      " 1 0 1 1 1 0 1 0 1 0 1 1 0 0 1 0 0 0 1 0 0 0 1 0 1 1 0 1 1 0 1 0 0 0 0 1 1\n",
      " 0 1 1 0 1 0 0 0 0 0 1 0 1 1 1 1 1 1 0 0 1 1 1 1 1 1 0 0 0 1 1 0 0 1 0 1 0\n",
      " 0 0 1 0 0 0 1 0 1 1 0 1 0 0 0 1 1 0 0 1 0 0 0 0 0 1 1 0 0 0 0 1 0 0 1 1 0\n",
      " 0 1 1 0 1 0 0 0 0 1 1 1 0 1 0 1 1 0 1 1 0 0 1 0 1 1 1 1 1 0 1 1 0 1 1 0 1\n",
      " 0 0 0 1 1 1 0 0 0 1 1 1 0 1 0 0 1 0 1 1 0 0 1 0 0 0 1 0 0 1 1 1 1 0 1 1 1\n",
      " 0 0 0 1 1 1 1 0 0 1 1 1 0 0 1 0 0 0 0 0 0 0 1 0 1 1 0 0 0 1 0 1 0 1 0 1 0\n",
      " 0 0 1 0 1 1 0 1 0 0 0 0 1 1 0 1 1 0 0 1 1 0 1 1 1 1 1 1 0 1 1 1 0 0 0 0 1\n",
      " 0 0 0 0 1 0 0 0 0 0 1 1 1 1 1 0 0 1 1 0 0 1 0 0 0 1 0 0 0 1 0 1 0 0 1 1 0\n",
      " 1 0 1 0 1 1 1 0 0 0 0 0 0 0 0 0 1 0 1 1 0 1 1 1 0 0 1 1 0 1 1 1 0 1 0 0 1\n",
      " 0 0 1 1 0 0 1 1 0 1 1 1 1 1 1 1 1 0 0 1 0 1 0 1 0 0 1 0 1 1 1 1 0 0 1 1 0\n",
      " 1 1 1 1 1 0 0 1 1 1 0 1 0 0 0 1 0 0 1 0 1 1 1 0 1 0 1 1 0 1 0 1 0 0 0 0 0\n",
      " 0 1 0 0 0 0 1 0 0 1 0 0 1 0 0 1 0 0 1 0]\n"
     ]
    }
   ],
   "source": [
    "np.set_printoptions(threshold=np.inf)\n",
    "print(test_cases_prediction)"
   ]
  },
  {
   "cell_type": "code",
   "execution_count": 29,
   "id": "611d0c4a-af13-424e-b390-f8b8e7574eb5",
   "metadata": {
    "scrolled": true
   },
   "outputs": [
    {
     "name": "stdout",
     "output_type": "stream",
     "text": [
      "[0 1 0 1 1 1 1 1 0 1 0 1 0 1 1 0 0 1 1 1 1 1 0 1 1 0 1 0 0 1 1 1 0 0 1 0 1\n",
      " 1 0 0 0 1 1 1 0 1 1 0 1 1 0 0 0 1 1 0 1 0 0 1 1 0 0 1 1 1 0 1 0 1 1 1 0 1\n",
      " 0 0 0 0 1 1 0 1 1 1 0 0 1 0 0 1 1 0 0 1 1 0 0 1 0 0 1 1 1 0 0 0 0 0 1 1 0\n",
      " 1 1 0 1 1 0 0 1 1 1 1 1 1 1 1 1 1 1 0 1 0 1 1 1 0 0 0 0 1 1 1 0 1 1 0 1 1\n",
      " 0 0 1 1 0 1 0 1 1 1 0 1 1 1 1 0 0 1 1 1 1 1 1 0 1 0 0 1 0 1 1 1 0 1 1 1 0\n",
      " 1 0 0 1 1 1 1 0 1 1 0 0 1 1 1 0 1 1 1 1 1 1 0 1 1 0 1 1 1 0 1 1 0 0 0 0 1\n",
      " 0 1 0 1 1 1 0 0 0 0 0 1 1 1 0 0 1 1 1 0 0 1 0 1 1 1 0 1 1 1 0 0 0 1 1 1 1\n",
      " 1 1 1 1 1 1 1 1 1 0 1 0 1 0 1 0 0 0 0 0 0 1 1 1 1 1 0 0 0 1 1 0 1 0 1 0 0\n",
      " 1 1 1 0 1 0 0 1 1 0 1 1 0 0 1 0 1 0 1 1 0 1 0 0 0 0 0 1 0 1 1 0 0 1 0 1 1\n",
      " 1 0 1 0 1 0 1 1 1 1 0 1 0 1 1 1 1 0 0 1 0 0 1 1 0 1 0 0 0 1 0 1 0 1 1 1 0\n",
      " 0 0 1 0 0 0 1 0 0 0 0 0 0 1 1 1 0 1 1 0 0 1 0 1 1 1 1 1 1 1 0 1 1 1 1 0 1\n",
      " 0 0 1 0 1 1 0 1 0 0 0 1 1 0 0 0 1 0 0 1 1 0 1 0 0 0 1 0 0 0 1 1 1 1 0 0 1\n",
      " 0 0 1 1 1 1 1 0 1 1 1 0 0 1 0 0 1 1 0 0 1 0 0 0 0 1 0 1 0 0 1 0 0 0 0 1 1\n",
      " 1 1 1 1 1 1 1 1 0 0 1 0 0 1 0 0 1 1 1 0 1 0 0 1 1 1 0 0 1 1 1 1 0 0 1 0 0\n",
      " 1 0 0 1 1 0 0 1 0 0 1 1 1 1 0 0 0 1 0 0 1 0 0 0 0 1 1 1 0 0 0 0 0 1 1 0 1\n",
      " 1 1 1 0 0 0 1 1 0 0 1 1 0 1 0 0 0 1 0 0 0 1 0 1 1 1 0 0 1 0 1 1 0 0 1 0 0\n",
      " 0 0 0 0 1 1 1 1 1 1 1 0 0 1 0 0 0 1 0 1 0 0 0 1 1 1 0 1 0 0 1 0 0 1 1 1 1\n",
      " 0 1 0 1 1 1 1 1 0 0 1 0 0 1 0 1 1 1 0 1 0 1 0 1 1 0 0 0 1 0 1 1 1 1 1 0 0\n",
      " 0 0 0 0 1 1 1 1 0 0 1 0 1 1 1 0 0 1 0 1 1 1 1 1 0 0 1 1 0 1 1 1 1 1 1 0 1\n",
      " 0 1 1 1 1 1 1 0 1 1 1 1 0 0 1 1 1 0 1 0 1 1 0 0 1 1 0 0 1 0 0 0 0 0 1 1 1\n",
      " 1 1 1 0 0 1 1 0 1 1 1 1 0 1 1 1 1 0 0 1 0 0 1 0 1 1 0 1 0 1 0 0 0 0 1 0 0\n",
      " 1 1 0 1 0 1 0 1 0 1 0 1 0 0 1 1 1 1 0 0 1 0 1 0 1 1 0 0 0 0 1 1 0 1 1 1 0\n",
      " 0 1 0 1 0 0 0 1 1 1 1 0 0 1 0 1 0 0 1 1 1 1 1 1 1 1 1 1 0 0 0 1 0 0 0 0 0\n",
      " 1 1 0 1 1 1 1 1 1 1 1 0 1 1 1 1 1 1 1 0 0 0 1 1 1 0 0 1 0 1 0 1 1 1 0 1 1\n",
      " 1 0 0 1 0 0 1 0 0 0 0 0 1 0 1 0 1 1 0 1 0 1 0 1 1 1 1 1 0 0 0 0 0 1 0 0 1\n",
      " 0 1 0 1 1 1 1 1 1 0 1 0 0 0 1 1 1 1 0 0 1 1 1 0 1 0 0 1 1 1 0 1 0 1 0 0 0\n",
      " 1 1 0 1 1 1 0 0 0 0 0 1 0 0 1 1 1 0 0 0 1 1 0 1 1 1 1 0 1 0 1 1 1 0 1 0 1\n",
      " 1 0 0 1 1 0 0 1 1 0 1 1 1 0 1 1 0 1 1 0 1 0 1 1 0 1 1 1 0 1 1 1 1 0 0 1 1\n",
      " 1 1 1 1 0 0 0 1 1 1 1 1 1 0 1 1 1 1 1 0 1 1 0 0 0 1 1 0 0 1 0 0 1 1 1 0 0\n",
      " 0 1 1 1 1 1 1 1 1 1 0 1 1 1 0 1 0 0 1 1 0 0 1 1 0 1 1 1 0 1 0 1 1 0 1 0 0\n",
      " 0 1 0 0 1 1 0 1 0 0 1 1 0 1 0 1 1 0 0 1 1 1 1 0 1 1 1 0 1 1 1 0 1 1 1 1 0\n",
      " 0 1 1 0 1 1 1 1 0 0 0 1 1 1 0 0 1 1 1 0 0 0 0 0 0 0 0 1 1 1 0 0 1 1 1 0 0\n",
      " 1 1 1 1 0 1 1 0 1 1 1 1 0 1 0 0 0 1 1 0 1 0 1 1 0 1 0 1 1 0 1 0 1 0 0 1 0\n",
      " 0 0 1 1 1 1 1 1 0 1 1 1 1 1 0 0 1 0 0 0 1 1 1 0 1 1 0 0 1 1 0 0 1 1 0 0 0\n",
      " 0 1 1 1 0 0 1 0 0 1 1 1 0 1 0 1 1 0 1 1 0 0 1 0 0 0 0 1 0 1 1 1 1 0 1 1 1\n",
      " 1 1 0 1 0 1 1 1 0 1 1 0 0 1 0 0 1 1 1 1 0 0 0 1 0 1 1 1 1 1 1 1 1 1 1 1 1\n",
      " 0 1 0 0 1 1 1 1 0 0 0 1 1 1 0 1 0 0 0 0 1 1 0 0 0 0 0 0 0 0 0 0 0 0 1 1 1\n",
      " 1 0 0 0 0 1 0 0 1 1 0 1 1 0 0 1 1 1 0 0 1 1 0 1 1 1 1 0 1 1 0 0 0 1 1 1 0\n",
      " 0 0 0 1 0 1 0 1 0 0 1 0 0 0 0 0 0 1 0 1 0 0 1 1 1 1 0 1 0 0 1 0 1 0 1 0 1\n",
      " 0 1 0 0 0 1 0 1 0 1 1 0 0 1 1 1 1 0 1 1 1 1 1 0 1 0 0 0 0 1 0 0 0 1 0 1 0\n",
      " 0 0 0 1 0 1 1 0 0 1 0 0 0 1 1 0 1 1 0 0 0 1 0 0 1 1 0 1 0 1 1 1 1 1 1 0 0\n",
      " 1 0 1 0 1 1 1 0 1 1 0 0 1 0 1 1 1 1 0 0 0 1 1 0 0 1 0 1 0 1 1 1 1 0 0 0 1\n",
      " 1 0 1 0 1 1 1 0 1 0 1 0 1 0 0 0 0 1 1 1 0 0 1 1 0 0 0 0 1 1 1 1 0 0 0 1 1\n",
      " 0 0 0 0 1 1 0 0 1 0 0 1 1 0 1 1 1 0 1 0 0 1 0 1 0 0 1 1 1 0 0 0 1 0 0 0 1\n",
      " 0 1 0 0 1 0 0 1 0 1 1 0 1 1 1 0 1 0 0 0 0 1 1 1 1 1 0 1 1 1 0 0 0 1 0 1 0\n",
      " 1 1 1 1 1 0 1 1 0 0 1 0 1 1 0 1 1 1 1 0 1 1 1 0 1 0 1 0 0 1 0 0 0 1 0 0 1\n",
      " 1 0 0 0 0 0 1 1 1 0 0 1 1 1 1 1 1 1 1 0 1 1 1 0 1 0 0 1 1 1 1 1 1 0 0 0 0\n",
      " 1 0 1 1 1 1 0 0 1 1 1 0 0 0 0 0 0 1 1 1 0 1 0 1 0 0 0 0 1 0 0 0 1 0 1 1 0\n",
      " 1 0 0 1 0 0 0 1 1 1 0 0 1 1 0 1 0 0 0 0 0 1 0 0 1 0 0 1 1 1 0 0 1 0 0 1 0\n",
      " 1 0 1 0 1 1 0 0 1 1 0 0 1 1 0 1 1 1 0 1 0 0 1 1 1 0 1 1 0 0 1 1 0 0 1 0 1\n",
      " 1 1 1 1 1 1 0 1 0 0 1 1 0 1 1 1 1 1 0 1 1 1 1 0 1 1 1 1 0 1 1 0 1 0 0 1 1\n",
      " 0 0 1 1 0 1 1 1 0 0 1 0 1 0 1 1 0 1 1 1 1 0 0 1 0 0 1 0 0 1 0 1 1 0 0 0 1\n",
      " 0 0 0 1 1 1 1 1 0 1 1 0 1 0 0 0 1 1 1 1 0 1 1 0 1 1 0 1 1 1 0 0 0 0 0 1 1\n",
      " 1 1 0 1 0 0 0 0 1 1 1 1 0 1 0 0 0 0 1 0 1 0 1 1 1 0 0 1 1 1 1 1 0 0 0 1 0\n",
      " 1 0 1 1 0 1 0 0 1 0 0 1 0 1 0 1 0 0 0 0 1 1 0 1 1 0 1 0 0 1 0 1 0 1 0 1 1\n",
      " 1 1 1 0 1 1 1 1 0 1 0 1 1 1 1 1 0 0 0 0 1 0 0 1 0 0 1 0 0 0 0 1 0 0 1 0 0\n",
      " 0 0 0 1 1 0 0 0 1 0 1 0 0 1 0 1 0 0 0 1 1 1 0 1 0 1 1 1 1 0 1 1 0 0 1 0 1\n",
      " 1 1 0 0 1 1 1 0 1 0 1 1 1 0 0 0 1 0 0 1 0 1 0 0 0 1 0 0 0 1 0 1 1 1 0 1 1\n",
      " 0 1 1 1 1 0 1 0 1 1 1 1 0 0 1 1 0 0 1 1 1 0 0 0 1 1 1 1 0 0 1 0 1 0 1 0 0\n",
      " 1 1 1 1 0 1 1 1 1 0 1 1 1 1 1 1 1 1 1 1 1 0 1 1 0 0 1 0 1 0 1 0 1 0 0 0 0\n",
      " 0 0 1 0 1 0 1 0 1 1 0 0 1 0 1 0 1 1 1 0 1 1 0 1 1 0 0 0 1 0 1 1 0 0 1 1 1\n",
      " 1 1 0 0 0 1 0 0 1 1 0 1 0 0 0 0 1 0 1 1 1 1 0 1 0 0 1 0 1 1 1 0 1 0 1 0 0\n",
      " 1 0 0 0 1 0 0 0 0 0 1 0 0 1 0 1 1 1 0 0 1 1 0 0 1 1 1 0 1 1 1 1 1 1 1 0 1\n",
      " 0 0 0 0 1 1 1 0 0 1 0 1 1 0 0 0 0 0 0 1 0 1 1 0 0 1 1 0 1 0 0 0 1 0 0 1 1\n",
      " 1 0 0 1 1 0 1 0 0 1 1 1 1 1 1 1 0 1 1 0 0 1 1 1 1 1 1 0 1 0 0 0 1 0 1 1 1\n",
      " 1 1 0 1 1 1 1 1 1 1 0 1 1 1 0 0 0 0 0 0 0 0 0 0 0 0 1 1 1 1 1 1 0 0 0 0 0\n",
      " 0 1 0 1 0 1 1 1 0 1 0 1 1 1 1 1 0 1 0 0 0 0 0 0 0 0 1 1 0 1 1 1 0 1 1 1 1\n",
      " 1 1 1 0 1 1 0 1 1 0 0 1 0 0 0 0 0 0 0 1 0 0 1 1 1 1 0 1 0 0 0 1 1 1 1 1 0\n",
      " 1 0 1 0 1 1 0 1 1 1 1 1 1 1 0 0 1 0 1 1 0 0 1 1 1 1 1 1 1 1 0 1 0 0 1 0 0\n",
      " 1 1 1 1 1 1 0 1 1 1 1 0 0 1 1 1 0 1 0 1 1 0 1 0 1 1 0 1 0 0 1 1 1 0 0 0 0\n",
      " 1 1 1 1 1 1 1 1 1 0 0 0 1 1 1 0 0 0 1 1 1 1 0 0 0 1 1 0 1 0 1 1 1 1 1 0 1\n",
      " 1 1 0 0 1 0 0 1 1 0 1 0 0 1 0 1 1 0 1 1 1 0 0 1 0 1 0 0 1 1 1 1 1 1 1 1 1\n",
      " 1 1 0 1 0 0 0 1 0 1 0 1 1 1 0 0 1 0 1 0 0 1 0 1 1 1 0 0 1 0 1 1 0 0 1 1 0\n",
      " 1 1 1 0 1 1 1 0 0 0 1 0 0 1 0 0 1 0 0 1 0 1 1 1 1 1 0 1 0 0 1 0 1 1 1 0 0\n",
      " 1 0 1 1 0 0 0 0 1 0 1 1 1 1 1 1 0 1 0 1 1 1 1 0 0 0 1 0 1 0 1 0 0 0 1 1 0\n",
      " 0 0 0 0 0 1 1 1 0 1 1 1 0 1 0 0 1 0 1 1 1 0 0 0 1 0 0 1 0 0 0 1 0 0 1 1 1\n",
      " 1 1 1 0 1 1 0 0 1 1 1 1 1 0 0 1 0 1 0 0 0 1 0 1 0 0 1 0 0 0 1 1 1 1 1 0 0\n",
      " 1 1 0 0 1 1 0 1 1 0 0 0 0 0 1 0 0 0 0 0 1 0 1 0 1 1 1 1 1 1 1 0 0 1 0 0 0\n",
      " 1 1 1 1 0 0 1 0 0 0 1 0 0 0 1 1 1 1 0 0 0 1 0 1 0 1 1 0 0 0 1 0 1 1 1 0 0\n",
      " 1 1 0 1 1 1 1 0 0 0 1 1 1 1 1 1 1 0 1 1 0 0 1 1 1 0 1 0 1 0 1 1 0 0 0 1 1\n",
      " 0 1 0 1 0 1 1 0 0 1 1 1 0 1 1 0 0 0 1 0 0 1 0 0 1 1 1 1 0 1 0 1 0 0 0 1 1\n",
      " 0 1 0 0 1 1 0 1 0 1 1 0 0 1 0 1 1 1 1 0 1 1 0 1 1 0 1 1 1 0 0 1 1 1 1 1 1\n",
      " 1 1 1 1 1 1 1 1 0 1 1 1 0 1 1 1 0 1 1 0 1 0 0 1 0 1 0 1 1 0 0 1 1 1 1 1 1\n",
      " 0 1 0 0 0 0 1 0 0 0 0 1 0 1 0 0 1 1 0 1 0 1 1 0 1 1 0 0 0 0 0 0 0 0 0 0 1\n",
      " 1 1 0 0 1 0 1 0 0 1 0 1 0 0 0 1 0 1 1 1 1 0 0 0 0 1 1 0 0 1 0 0 0 0 1 0 0\n",
      " 1 1 0 1 0 0 1 1 1 1 1 1 1 0 0 1 0 0 1 0 1 0 0 0 0 1 1 1 0 1 0 0 1 0 1 0 0\n",
      " 0 1 1 1 1 1 0 0 0 1 0 1 0 0 1 0 1 0 1 1 0 1 1 0 1 1 1 1 1 0 0 0 0 0 1 1 0\n",
      " 1 0 1 1 1 0 1 1 1 1 0 1 1 0 1 0 1 1 0 0 0 1 1 0 1 1 1 0 1 0 1 0 1 1 0 1 1\n",
      " 0 0 0 1 0 1 1 1 0 0 0 1 0 1 0 1 0 1 0 1 0 1 1 1 1 0 1 1 1 0 1 0 1 0 1 1 0\n",
      " 0 1 1 1 0 1 0 1 1 1 0 0 0 1 0 0 0 1 0 1 0 1 1 0 1 0 1 0 1 0 0 0 1 1 1 1 1\n",
      " 1 1 1 1 1 0 1 1 1 0 0 1 1 0 0 0 1 0 1 1 1 0 1 1 0 0 0 1 0 1 1 1 0 1 1 0 1\n",
      " 0 1 1 1 1 0 0 1 0 0 0 1 0 1 1 1 0 1 1 1 0 1 1 1 1 0 1 0 0 0 0 1 0 1 0 0 1\n",
      " 1 1 0 1 0 1 0 1 0 1 0 0 0 0 1 0 0 1 0 0 1 0 1 0 1 0 0 1 1 0 1 1 0 0 0 0 1\n",
      " 1 1 1 1 1 0 0 1 1 0 1 1 1 0 0 1 1 1 0 0 0 1 1 0 0 0 1 0 0 1 1 1 0 1 1 1 1\n",
      " 0 1 1 0 0 1 1 1 1 0 1 1 1 0 0 1 0 1 1 1 1 1 1 1 0 0 0 0 0 1 1 0 0 0 0 1 0\n",
      " 1 1 0 1 1 1 0 1 1 0 1 1 0 1 1 1 1 1 1 1 0 1 1 0 1 0 1 0 0 1 1 1 0 0 0 1 0\n",
      " 1 0 0 1 1 0 0 1 0 0 1 1 1 1 0 0 1 1 0 0 1 0 0 0 0 0 0 1 1 1 0 0 0 0 1 1 0\n",
      " 1 0 1 0 0 0 0 1 0 1 0 1 1 1 0 1 0 1 1 1 0 1 0 0 1 0 1 0 1 1 1 0 0 0 1 1 1\n",
      " 1 1 1 0 0 0 1 0 1 1 0 0 0 0 0 1 0 0 1 1 0 1 1 1 1 0 0 1 0 0 1 0 1 0 0 1 1\n",
      " 0 0 1 1 0 0 0 0 1 0 0 0 1 0 0 1 1 0 1 0 1 1 0 0 1 0 1 0 1 0 0 0 1 1 0 0 1\n",
      " 1 1 0 0 0 0 0 0 1 0 1 1 0 1 1 1 1 0 1 1 1 1 0 0 1 0 1 1 1 0 0 0 1 1 1 1 0\n",
      " 0 1 0 0 1 1 0 1 0 1 0 0 1 1 1 1 0 1 0 1 1 0 1 0 1 1 0 1 1 1 0 0 1 1 1 1 1\n",
      " 0 1 0 1 1 1 1 1 1 1 1 1 1 1 1 0 1 1 1 0 1 1 1 0 1 0 1 1 0 0 0 1 1 1 1 1 0\n",
      " 1 0 1 0 0 1 0 1 1 0 0 0 1 0 1 0 0 0 0 0 0 1 0 0 0 1 1 0 0 1 0 1 1 1 1 1 0\n",
      " 0 1 1 0 1 1 1 1 0 1 1 1 0 1 1 1 1 0 0 1 1 0 1 0 1 0 0 0 0 1 0 1 1 0 0 0 0\n",
      " 0 0 0 1 0 0 0 0 1 0 1 0 1 0 0 1 0 1 0 0 0 0 1 1 0 1 1 1 1 1 1 1 1 0 0 0 1\n",
      " 0 1 1 1 0 0 1 0 0 1 1 1 1 1 1 0 1 0 0 1 1 1 0 1 1 1 1 1 1 0 1 0 0 0 1 0 1\n",
      " 1 1 1 0 0 1 0 0 0 0 1 1 1 1 0 1 1 0 1 1 1 1 1 0 0 0 1 0 1 1 1 1 0 0 0 1 1\n",
      " 1 0 1 1 1 1 0 1 1 0 1 0 1 1 0 1 1 1 0 0 0 0 1 0 1 1 1 1 1 0 0 0 1 1 0 0 1\n",
      " 1 1 1 1 0 1 1 1 1 1 0 0 0 0 1 1 1 0 0 1 1 0 1 0 0 0 1 0 0 0 1 1 1 0 1 1 0\n",
      " 0 1 1 1 1 0 0 1 0 0 1 0 1 0 1 1 1 1 0 1 0 1 0 1 1 1 1 1 0 0 1 1 1 1 1 0 0\n",
      " 1 1 1 0 1 1 1 1 0 0 1 1 1 1 0 0 1 1 1 1 0 1 0 1 1 1 1 0 0 0 1 0 0 1 0 1 0\n",
      " 1 1 0 1 1 0 1 0 0 1 1 0 1 0 0 1 0 1 0 1 1 0 1 0 1 1 0 0 1 1 0 1 1 0 1 0 0\n",
      " 0 1 1 1 1 1 0 0 1 0 1 0 1 1 0 0 0 1 1 0 1 0 1 0 1 0 0 1 1 1 0 0 1 0 1 1 1\n",
      " 0 0 1 1 0 0 1 1 1 0 0 0 1 1 0 1 0 1 0 0 1 0 0 0 1 0 1 1 1 1 1 1 1 1 1 0 1\n",
      " 1 0 0 1 0 0 1 0 1 1 1 0 1 1 0 1 1 0 0 1 0 0 1 1 0 0 0 0 0 0 0 1 0 0 1 0 0\n",
      " 1 1 1 1 0 1 0 1 0 1 1 0 1 0 0 1 1 1 1 0 0 0 0 0 0 1 1 0 1 1 1 0 0 1 1 1 0\n",
      " 0 1 1 1 0 1 0 1 1 1 0 1 0 0 1 1 1 1 1 0 0 0 0 1 1 1 1 1 0 1 0 0 1 0 1 1 0\n",
      " 0 0 0 0 0 0 0 0 1 1 0 1 1 1 1 1 1 1 1 0 0 1 0 0 0 1 1 1 1 0 0 0 1 0 1 1 1\n",
      " 0 1 0 0 0 1 0 0 0 0 1 1 1 0 1 1 0 1 1 1 1 0 1 1 1 1 1 1 1 1 1 1 1 1 1 1 1\n",
      " 1 0 0 0 0 1 1 1 1 0 1 1 1 0 0 1 1 1 1 0 0 1 1 1 1 1 1 0 0 0 1 1 0 0 0 1 0\n",
      " 1 0 0 1 0 0 1 1 0 1 0 0 1 1 1 0 0 1 0 1 1 1 1 0 1 0 0 0 1 1 0 0 0 0 1 0 1\n",
      " 1 1 0 1 1 1 0 1 1 0 0 1 0 0 0 0 0 0 1 0 1 0 0 1 0 1 1 1 0 0 1 0 1 1 1 1 1\n",
      " 1 1 1 1 1 0 1 1 0 1 1 0 1 0 0 1 1 0 1 1 1 1 1 1 0 0 0 1 1 1 0 1 1 0 0 1 1\n",
      " 0 1 0 0 1 0 1 1 1 1 1 0 1 0 0 1 1 0 1 0 1 1 1 0 1 1 1 0 1 1 0 0 1 0 1 0 1\n",
      " 0 1 1 1 1 1 1 0 1 0 0 0 1 1 1 1 0 1 1 0 1 1 1 0 0 0 0 0 1 1 0 0 1 1 1 0 0\n",
      " 0 1 1 1 1 1 1 0 1 1 0 1 0 0 0 1 1 1 1 1 1 1 0 1 0 0 0 0 1 1 1 0 0 0 1 1 0\n",
      " 1 1 0 1 1 0 0 1 1 0 1 1 1 0 1 1 1 0 1 1 1 1 0 1 0 0 1 1 0 0 0 0 0 1 1 1 1\n",
      " 1 0 0 1 1 0 0 1 1 1 1 0 1 1 0 0 1 1 1 0 1 1 1 1 1 0 0 1 0 1 1 0 1 0 1 1 1\n",
      " 1 0 0 1 0 0 1 1 1 1 0 1 0 1 1 0 0 0 1 1 0 0 1 0 1 0 1 1 1 0 0 0 0 0 0 0 1\n",
      " 0 1 1 0 0 1 0 1 1 0 0 0 0 1 1 1 0 1 1 1 1 1 1 1 1 1 1 0 1 1 1 1 1 1 0 1 0\n",
      " 0 0 0 1 0 1 1 0 1 0 0 1 1 0 0 1 1 1 1 0 0 0 0 0 0 1 1 0 0 0 0 0 1 1 0 1 0\n",
      " 0 1 1 1 1 1 0 0 0 0 0 1 1 1 1 1 1 0 1 1 1 0 0 1 0 1 1 1 1 0 0 1 1 1 1 0 0\n",
      " 1 0 1 1 1 1 0 0 0 1 1 0 1 1 0 0 0 0 1 1 0 0 0 0 1 0 0 1 1 0 0 1 1 1 1 1 0\n",
      " 0 0 1 1 0 1 0 0 0 1 1 0 1 0 1 0 1 1 0 0 0 1 0 0 1 1 0 0 1 1 0 1 1 0 1 0 0\n",
      " 1 1 0 1 0 1 0 1 1 0 1 1 1 1 1 0 0 1 1 1 1 0 1 1 0 1 0 0 0 1 0 1 1 0 1 1 0\n",
      " 0 0 0 1 0 0 0 0 1 0 0 1 1 1 0 0 1 1 0 0 0 1 0 0 0 1 1 0 0 0 0 0 0 1 1 1 0\n",
      " 1 0 0 0 0 0 1 1 0 0 1 0 0 0 0 1 1 1 1 1 1 1 1 1 1 0 1 0 0 1 0 1 0 1 0 0 1\n",
      " 0 0 1 1 1 0 1 0 1 1 0 1 1 0 1 0 1 1 0 1 1 1 0 1 0 1 0 1 1 0 1 0 0 1 1 1 0\n",
      " 1 1 1 1 0 1 0 0 1 1 1 1 0 0 1 0 1 0 1 1 1 1 0 1 0 0 0 0 1 0 1 0 1 1 1 0 0\n",
      " 0 1 0 1 1 0 1 0 0 1 1 1 1 0 1 0 1 0 1 0]\n"
     ]
    }
   ],
   "source": [
    "np.set_printoptions(threshold=np.inf)\n",
    "print(test_results)"
   ]
  },
  {
   "cell_type": "code",
   "execution_count": null,
   "id": "37dcbb8a-ed43-492a-a661-6816eebf3803",
   "metadata": {},
   "outputs": [],
   "source": []
  },
  {
   "cell_type": "code",
   "execution_count": null,
   "id": "e18f0f5c-bdc8-46d1-a6ad-f0a3eac39f69",
   "metadata": {},
   "outputs": [],
   "source": []
  },
  {
   "cell_type": "code",
   "execution_count": null,
   "id": "a5eb27ad-b9e6-4587-b358-9406a823d455",
   "metadata": {},
   "outputs": [],
   "source": []
  }
 ],
 "metadata": {
  "kernelspec": {
   "display_name": "Python 3 (ipykernel)",
   "language": "python",
   "name": "python3"
  },
  "language_info": {
   "codemirror_mode": {
    "name": "ipython",
    "version": 3
   },
   "file_extension": ".py",
   "mimetype": "text/x-python",
   "name": "python",
   "nbconvert_exporter": "python",
   "pygments_lexer": "ipython3",
   "version": "3.12.4"
  },
  "widgets": {
   "application/vnd.jupyter.widget-state+json": {
    "state": {},
    "version_major": 2,
    "version_minor": 0
   }
  }
 },
 "nbformat": 4,
 "nbformat_minor": 5
}
